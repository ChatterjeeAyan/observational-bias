{
 "cells": [
  {
   "cell_type": "code",
   "execution_count": 105,
   "id": "e5e7028c",
   "metadata": {},
   "outputs": [],
   "source": [
    "import matplotlib.pyplot as plt\n",
    "from tqdm import tqdm\n",
    "import pandas as pd\n",
    "from matplotlib.pyplot import figure\n",
    "import numpy as np\n",
    "import networkx as nx\n",
    "from networkx.algorithms import bipartite\n",
    "from sklearn.metrics import confusion_matrix, f1_score, classification_report\n",
    "from sklearn.metrics import roc_curve, roc_auc_score, precision_recall_curve, average_precision_score\n",
    "from sklearn.metrics import confusion_matrix, f1_score, classification_report\n",
    "from scipy import stats\n",
    "import seaborn as sns\n",
    "import powerlaw\n",
    "from scipy.stats import poisson\n",
    "from scipy.stats import norm  \n",
    "from sklearn.model_selection import train_test_split\n",
    "import math\n",
    "from random import shuffle\n",
    "from scipy.stats import norm\n",
    "from statsmodels.distributions.empirical_distribution import ECDF\n",
    "#from fa2 import ForceAtlas2\n",
    "from scipy.spatial.distance import squareform\n",
    "import joblib\n",
    "import matplotlib\n",
    "from sklearn.utils import column_or_1d\n",
    "from sklearn.utils.multiclass import type_of_target\n",
    "matplotlib.rcParams['font.serif'] = 'Times New Roman'\n",
    "matplotlib.rcParams['font.family'] = \"serif\"\n",
    "matplotlib.rcParams['font.size'] = 15\n",
    "from maximumentropymodels import *\n",
    "import argparse\n",
    "\n",
    "import torch\n",
    "import torch.nn.functional as F\n",
    "from torch.utils.data import DataLoader\n",
    "\n",
    "from ogb.linkproppred import PygLinkPropPredDataset, Evaluator\n",
    "\n",
    "from logger import Logger\n",
    "\n",
    "import numpy as np\n",
    "\n",
    "import pandas as pd\n",
    "\n",
    "import networkx as nx\n",
    "from tqdm import tqdm\n",
    "from scipy.spatial.distance import squareform\n",
    "from matplotlib.pyplot import figure\n",
    "import seaborn as sns\n",
    "from sklearn.model_selection import train_test_split\n",
    "\n",
    "from scipy import sparse\n",
    "import dask.array as da\n",
    "\n",
    "from sklearn import metrics\n",
    "from sklearn.metrics import average_precision_score\n",
    "\n",
    "\n",
    "# logistic regression for feature importance\n",
    "from sklearn.datasets import make_classification\n",
    "from sklearn.linear_model import LogisticRegression\n",
    "from matplotlib import pyplot\n",
    "\n",
    "import os\n",
    "import os.path\n",
    "from scipy import linalg\n",
    "import scipy.sparse as sparse\n",
    "from scipy.sparse import csr_matrix\n",
    "import numpy as np\n",
    "import pandas as pd\n",
    "import networkx as nx\n",
    "from sklearn.metrics import roc_auc_score\n",
    "from sklearn.metrics import confusion_matrix\n",
    "from imblearn.over_sampling import RandomOverSampler\n",
    "from sklearn.model_selection import StratifiedKFold\n",
    "from sklearn.ensemble import RandomForestClassifier\n",
    "from sklearn.metrics import precision_recall_fscore_support\n",
    "import pickle\n",
    "\n",
    "from sklearn import metrics\n",
    "from sklearn.metrics import average_precision_score\n",
    "from sklearn.preprocessing import normalize"
   ]
  },
  {
   "cell_type": "code",
   "execution_count": 106,
   "id": "8e0902cb",
   "metadata": {},
   "outputs": [],
   "source": [
    "dataset = PygLinkPropPredDataset(name='ogbl-ddi')\n",
    "split_edge = dataset.get_edge_split()\n",
    "data = dataset[0]\n",
    "\n",
    "#device = f'cuda:{args.device}' if torch.cuda.is_available() else 'cpu'\n",
    "#device = torch.device(device)\n",
    "device = 'cpu'\n",
    "\n",
    "x = data.x\n",
    "pos_train_edge = split_edge['train']['edge'].to(device)\n",
    "pos_valid_edge = split_edge['valid']['edge'].to(device)\n",
    "neg_valid_edge = split_edge['valid']['edge_neg'].to(device)\n",
    "pos_test_edge = split_edge['test']['edge'].to(device)\n",
    "neg_test_edge = split_edge['test']['edge_neg'].to(device)\n",
    "\n",
    "pos_train_edge_df = pd.DataFrame(pos_train_edge.numpy())\n",
    "pos_valid_edge_df = pd.DataFrame(pos_valid_edge.numpy())\n",
    "neg_valid_edge_df = pd.DataFrame(neg_valid_edge.numpy())\n",
    "pos_test_edge_df = pd.DataFrame(pos_test_edge.numpy())\n",
    "neg_test_edge_df = pd.DataFrame(neg_test_edge.numpy())"
   ]
  },
  {
   "cell_type": "markdown",
   "id": "74090aaa",
   "metadata": {},
   "source": [
    "# Whole network"
   ]
  },
  {
   "cell_type": "code",
   "execution_count": 107,
   "id": "9f1eea35",
   "metadata": {},
   "outputs": [],
   "source": [
    "G_ddi = nx.from_pandas_edgelist(pd.concat([pos_train_edge_df,pos_valid_edge_df,pos_test_edge_df]), 0, 1, create_using=nx.Graph()) ## Whole graph"
   ]
  },
  {
   "cell_type": "code",
   "execution_count": 108,
   "id": "1cb15b1b",
   "metadata": {},
   "outputs": [],
   "source": [
    "N = G_ddi.number_of_nodes()"
   ]
  },
  {
   "cell_type": "code",
   "execution_count": 109,
   "id": "14384377",
   "metadata": {},
   "outputs": [
    {
     "name": "stdout",
     "output_type": "stream",
     "text": [
      "density  0.1466667457744104\n",
      "Positive Edgelist  1334889\n",
      "Total Neg Edgelist  7766622\n",
      "density  0.8533332542255895\n",
      "Negative Edgelist  1334889\n"
     ]
    }
   ],
   "source": [
    "netpos=nx.to_pandas_edgelist(G_ddi, source=0, target=1)\n",
    "netpos['binary_label']=[1 for c in range(netpos.shape[0])]\n",
    "print('density ', 2*len(G_ddi.edges)/N/(N-1)) \n",
    "print('Positive Edgelist ', netpos.shape[0])\n",
    "Gc=nx.complement(G_ddi)\n",
    "print('Total Neg Edgelist ', len(Gc.edges))\n",
    "print('density ', 2*len(Gc.edges)/N/(N-1)) \n",
    "    \n",
    "netneg=nx.to_pandas_edgelist(Gc, source='node_1', target='node_2').sample(n=len(G_ddi.edges))\n",
    "    \n",
    "netneg['binary_label']=[0 for c in range(netneg.shape[0])]\n",
    "print('Negative Edgelist ', netneg.shape[0])\n",
    "network_data=pd.concat([netpos, netneg])"
   ]
  },
  {
   "cell_type": "code",
   "execution_count": 110,
   "id": "e6dab5c0",
   "metadata": {},
   "outputs": [
    {
     "name": "stdout",
     "output_type": "stream",
     "text": [
      "Nodes in the network:  4267\n"
     ]
    }
   ],
   "source": [
    "all_nodes = list(G_ddi.nodes())\n",
    "print('Nodes in the network: ', len(all_nodes))"
   ]
  },
  {
   "cell_type": "code",
   "execution_count": 111,
   "id": "77bdeba1",
   "metadata": {},
   "outputs": [],
   "source": [
    "degree_nodes = dict(G_ddi.degree())"
   ]
  },
  {
   "cell_type": "code",
   "execution_count": 213,
   "id": "b4e3dbc4",
   "metadata": {},
   "outputs": [],
   "source": [
    "#clustering_coeff = nx.clustering(G_ddi)"
   ]
  },
  {
   "cell_type": "code",
   "execution_count": 214,
   "id": "02e4071d",
   "metadata": {
    "scrolled": true
   },
   "outputs": [],
   "source": [
    "#triangle_nodes = dict(nx.triangles(G_ddi))"
   ]
  },
  {
   "cell_type": "code",
   "execution_count": 112,
   "id": "db8db54b",
   "metadata": {},
   "outputs": [],
   "source": [
    "nn_degree = nx.average_neighbor_degree(G_ddi)"
   ]
  },
  {
   "cell_type": "code",
   "execution_count": 216,
   "id": "63d5d119",
   "metadata": {},
   "outputs": [],
   "source": [
    "#load_centrality_nodes = nx.load_centrality(G_ddi)"
   ]
  },
  {
   "cell_type": "code",
   "execution_count": 217,
   "id": "6c5a33e3",
   "metadata": {
    "scrolled": true
   },
   "outputs": [],
   "source": [
    "#betweenness_cetrality = dict(nx.betweenness_centrality(G_ddi))"
   ]
  },
  {
   "cell_type": "code",
   "execution_count": 113,
   "id": "3eee2563",
   "metadata": {},
   "outputs": [],
   "source": [
    "#with open('clustering_coeff.pickle', 'wb') as handle:\n",
    "#    pickle.dump(clustering_coeff, handle, protocol=pickle.HIGHEST_PROTOCOL)\n",
    "       \n",
    "#with open('triangle_nodes.pickle', 'wb') as handle:\n",
    "#    pickle.dump(triangle_nodes, handle, protocol=pickle.HIGHEST_PROTOCOL)\n",
    "    \n",
    "    \n",
    "#with open('load_centrality_nodes.pickle', 'wb') as handle:\n",
    "#    pickle.dump(load_centrality_nodes, handle, protocol=pickle.HIGHEST_PROTOCOL)\n",
    "    \n",
    "    \n",
    "#with open('betweenness_cetrality.pickle', 'wb') as handle:\n",
    "#    pickle.dump(betweenness_cetrality, handle, protocol=pickle.HIGHEST_PROTOCOL)\n",
    "    \n",
    "with open('clustering_coeff_train.pickle', 'rb') as handle:\n",
    "    clustering_coeff = pickle.load(handle)\n",
    "\n",
    "with open('triangle_nodes_train.pickle', 'rb') as handle:\n",
    "    triangle_nodes = pickle.load(handle)\n",
    "    \n",
    "with open('betweenness_cetrality_train.pickle', 'rb') as handle:\n",
    "    betweenness_cetrality = pickle.load(handle)"
   ]
  },
  {
   "cell_type": "markdown",
   "id": "e0a2bd9d",
   "metadata": {},
   "source": [
    "# All 5 features"
   ]
  },
  {
   "cell_type": "code",
   "execution_count": 114,
   "id": "d8711e82",
   "metadata": {},
   "outputs": [
    {
     "name": "stderr",
     "output_type": "stream",
     "text": [
      "100%|█████████████████████████████████████████████████████████████████████████████████████████████████████████████████| 4267/4267 [00:00<00:00, 826007.07it/s]\n"
     ]
    }
   ],
   "source": [
    "node_feature_dict = dict()\n",
    "\n",
    "for node in tqdm(all_nodes):\n",
    "    node_feat_list = []\n",
    "    node_feat_list.append(degree_nodes[node])\n",
    "    node_feat_list.append(clustering_coeff[node])\n",
    "    #node_feat_list.append(nx.triangles(G_ddi,node))\n",
    "    node_feat_list.append(triangle_nodes[node])\n",
    "    node_feat_list.append(nn_degree[node])\n",
    "    #node_feat_list.append(load_centrality_nodes[node])\n",
    "    node_feat_list.append(betweenness_cetrality[node])\n",
    "    #node_feat_list.append(betweenness_cetrality[node])\n",
    "    node_feature_dict[node] = node_feat_list"
   ]
  },
  {
   "cell_type": "code",
   "execution_count": 115,
   "id": "6b9da6f9",
   "metadata": {},
   "outputs": [],
   "source": [
    "network_data = network_data[[0,1,'binary_label']]"
   ]
  },
  {
   "cell_type": "code",
   "execution_count": 116,
   "id": "15c0c979",
   "metadata": {},
   "outputs": [
    {
     "name": "stderr",
     "output_type": "stream",
     "text": [
      "39449it [00:03, 11225.38it/s]/home/chatterjee.ay/.conda/envs/topology/lib/python3.7/site-packages/ipykernel_launcher.py:6: RuntimeWarning: divide by zero encountered in log\n",
      "  \n",
      "2669778it [03:42, 11975.87it/s]\n"
     ]
    }
   ],
   "source": [
    "feature_edge_list = np.zeros((len(network_data),2*5))\n",
    "i = 0\n",
    "\n",
    "for index, row in tqdm(network_data.iterrows()):\n",
    "    try:\n",
    "        feature_edge_list[i,:] = np.log(np.concatenate((np.array(node_feature_dict[row[0]]),np.array(node_feature_dict[row[1]]))))\n",
    "    except:\n",
    "        feature_edge_list[i,:] =  np.log(np.random.rand(2*5,))\n",
    "    i = i + 1"
   ]
  },
  {
   "cell_type": "code",
   "execution_count": 117,
   "id": "3e786b73",
   "metadata": {
    "scrolled": true
   },
   "outputs": [],
   "source": [
    "X = feature_edge_list\n",
    "X[X == -inf] = 0\n",
    "#X = normalize(X, axis=1, norm='l2')\n",
    "X = (X - X.mean(axis=0)) / X.std(axis=0)\n",
    "y = np.array(network_data['binary_label'].tolist())"
   ]
  },
  {
   "cell_type": "code",
   "execution_count": 118,
   "id": "8a2d2998",
   "metadata": {
    "scrolled": false
   },
   "outputs": [
    {
     "name": "stdout",
     "output_type": "stream",
     "text": [
      "Feature: 0, Score: 2.35066\n",
      "Feature: 1, Score: -0.32733\n",
      "Feature: 2, Score: 1.75847\n",
      "Feature: 3, Score: 3.44146\n",
      "Feature: 4, Score: -2.33416\n",
      "Feature: 5, Score: 1.31951\n",
      "Feature: 6, Score: 0.59497\n",
      "Feature: 7, Score: 0.95282\n",
      "Feature: 8, Score: 2.42524\n",
      "Feature: 9, Score: -0.81449\n"
     ]
    },
    {
     "data": {
      "image/png": "[encoded data removed]",
      "text/plain": [
       "<Figure size 432x288 with 1 Axes>"
      ]
     },
     "metadata": {
      "needs_background": "light"
     },
     "output_type": "display_data"
    }
   ],
   "source": [
    "# define the model\n",
    "model = LogisticRegression()\n",
    "# fit the model\n",
    "model.fit(X, y)\n",
    "# get importance\n",
    "importance = model.coef_[0]\n",
    "# summarize feature importance\n",
    "for i,v in enumerate(importance):\n",
    "    print('Feature: %0d, Score: %.5f' % (i,v))\n",
    "# plot feature importance\n",
    "pyplot.bar([x for x in range(len(importance))], importance)\n",
    "pyplot.show()"
   ]
  },
  {
   "cell_type": "markdown",
   "id": "13e334c5",
   "metadata": {},
   "source": [
    "# W/O NN-degree"
   ]
  },
  {
   "cell_type": "code",
   "execution_count": 119,
   "id": "27da76bc",
   "metadata": {},
   "outputs": [
    {
     "name": "stderr",
     "output_type": "stream",
     "text": [
      "100%|█████████████████████████████████████████████████████████████████████████████████████████████████████████████████| 4267/4267 [00:00<00:00, 891689.26it/s]\n"
     ]
    }
   ],
   "source": [
    "node_feature_dict = dict()\n",
    "\n",
    "for node in tqdm(all_nodes):\n",
    "    node_feat_list = []\n",
    "    node_feat_list.append(degree_nodes[node])\n",
    "    node_feat_list.append(clustering_coeff[node])\n",
    "    #node_feat_list.append(nx.triangles(G_ddi,node))\n",
    "    node_feat_list.append(triangle_nodes[node])\n",
    "    #node_feat_list.append(nn_degree[node])\n",
    "    #node_feat_list.append(load_centrality_nodes[node])\n",
    "    node_feat_list.append(betweenness_cetrality[node])\n",
    "    #node_feat_list.append(betweenness_cetrality[node])\n",
    "    node_feature_dict[node] = node_feat_list"
   ]
  },
  {
   "cell_type": "code",
   "execution_count": 120,
   "id": "18e71aa8",
   "metadata": {},
   "outputs": [],
   "source": [
    "network_data = network_data[[0,1,'binary_label']]"
   ]
  },
  {
   "cell_type": "code",
   "execution_count": 121,
   "id": "68678400",
   "metadata": {},
   "outputs": [
    {
     "name": "stderr",
     "output_type": "stream",
     "text": [
      "39053it [00:03, 10410.12it/s]/home/chatterjee.ay/.conda/envs/topology/lib/python3.7/site-packages/ipykernel_launcher.py:6: RuntimeWarning: divide by zero encountered in log\n",
      "  \n",
      "2669778it [03:43, 11919.13it/s]\n"
     ]
    }
   ],
   "source": [
    "feature_edge_list = np.zeros((len(network_data),2*4))\n",
    "i = 0\n",
    "\n",
    "for index, row in tqdm(network_data.iterrows()):\n",
    "    try:\n",
    "        feature_edge_list[i,:] = np.log(np.concatenate((np.array(node_feature_dict[row[0]]),np.array(node_feature_dict[row[1]]))))\n",
    "    except:\n",
    "        feature_edge_list[i,:] =  np.log(np.random.rand(2*4,))\n",
    "    i = i + 1"
   ]
  },
  {
   "cell_type": "code",
   "execution_count": 122,
   "id": "fb452050",
   "metadata": {},
   "outputs": [],
   "source": [
    "X = feature_edge_list\n",
    "X[X == -inf] = 0\n",
    "#X = normalize(X, axis=1, norm='l2')\n",
    "X = (X - X.mean(axis=0)) / X.std(axis=0)\n",
    "y = np.array(network_data['binary_label'].tolist())"
   ]
  },
  {
   "cell_type": "code",
   "execution_count": 123,
   "id": "54cf8511",
   "metadata": {
    "scrolled": false
   },
   "outputs": [
    {
     "name": "stdout",
     "output_type": "stream",
     "text": [
      "Feature: 0, Score: 5.63655\n",
      "Feature: 1, Score: -0.41661\n",
      "Feature: 2, Score: 3.41488\n",
      "Feature: 3, Score: -3.20777\n",
      "Feature: 4, Score: 2.34202\n",
      "Feature: 5, Score: 1.03336\n",
      "Feature: 6, Score: 1.22427\n",
      "Feature: 7, Score: -1.25512\n"
     ]
    },
    {
     "data": {
      "image/png": "[encoded data removed]",
      "text/plain": [
       "<Figure size 432x288 with 1 Axes>"
      ]
     },
     "metadata": {
      "needs_background": "light"
     },
     "output_type": "display_data"
    }
   ],
   "source": [
    "# define dataset\n",
    "#X, y = make_classification(n_samples=1000, n_features=10, n_informative=5, n_redundant=5, random_state=1)\n",
    "# define the model\n",
    "model = LogisticRegression()\n",
    "# fit the model\n",
    "model.fit(X, y)\n",
    "# get importance\n",
    "importance = model.coef_[0]\n",
    "# summarize feature importance\n",
    "for i,v in enumerate(importance):\n",
    "    print('Feature: %0d, Score: %.5f' % (i,v))\n",
    "# plot feature importance\n",
    "pyplot.bar([x for x in range(len(importance))], importance)\n",
    "pyplot.show()"
   ]
  },
  {
   "cell_type": "markdown",
   "id": "29e0734f",
   "metadata": {},
   "source": [
    "# Run prediction task all features"
   ]
  },
  {
   "cell_type": "markdown",
   "id": "abfead94",
   "metadata": {},
   "source": [
    "## Train"
   ]
  },
  {
   "cell_type": "code",
   "execution_count": 124,
   "id": "c6a78030",
   "metadata": {},
   "outputs": [],
   "source": [
    "G_ddi = nx.from_pandas_edgelist(pos_train_edge_df, 0, 1, create_using=nx.Graph()) ## Whole graph"
   ]
  },
  {
   "cell_type": "code",
   "execution_count": 125,
   "id": "a90f78e5",
   "metadata": {},
   "outputs": [],
   "source": [
    "N = G_ddi.number_of_nodes()"
   ]
  },
  {
   "cell_type": "code",
   "execution_count": 126,
   "id": "ebee02e8",
   "metadata": {},
   "outputs": [
    {
     "name": "stdout",
     "output_type": "stream",
     "text": [
      "density  0.11733337464515507\n",
      "Positive Edgelist  1067911\n",
      "Total Neg Edgelist  8033600\n",
      "density  0.882666625354845\n",
      "Negative Edgelist  1067911\n"
     ]
    }
   ],
   "source": [
    "netpos=nx.to_pandas_edgelist(G_ddi, source=0, target=1)\n",
    "netpos['binary_label']=[1 for c in range(netpos.shape[0])]\n",
    "print('density ', 2*len(G_ddi.edges)/N/(N-1)) \n",
    "print('Positive Edgelist ', netpos.shape[0])\n",
    "Gc=nx.complement(G_ddi)\n",
    "print('Total Neg Edgelist ', len(Gc.edges))\n",
    "print('density ', 2*len(Gc.edges)/N/(N-1)) \n",
    "    \n",
    "#if typeneg=='real':\n",
    "#netneg=nx.to_pandas_edgelist(Gc, source='node_1', target='node_2')\n",
    "#elif typeneg=='equal':\n",
    "netneg=nx.to_pandas_edgelist(Gc, source='node_1', target='node_2').sample(n=len(G_ddi.edges))\n",
    "#else:\n",
    "#    return\n",
    "    \n",
    "netneg['binary_label']=[0 for c in range(netneg.shape[0])]\n",
    "print('Negative Edgelist ', netneg.shape[0])\n",
    "network_data=pd.concat([netpos, netneg])"
   ]
  },
  {
   "cell_type": "code",
   "execution_count": 127,
   "id": "c17d13c4",
   "metadata": {},
   "outputs": [
    {
     "name": "stdout",
     "output_type": "stream",
     "text": [
      "Nodes in the network:  4267\n"
     ]
    }
   ],
   "source": [
    "all_nodes = list(G_ddi.nodes())\n",
    "print('Nodes in the network: ', len(all_nodes))"
   ]
  },
  {
   "cell_type": "code",
   "execution_count": 128,
   "id": "b7748e0f",
   "metadata": {},
   "outputs": [],
   "source": [
    "degree_nodes = dict(G_ddi.degree())"
   ]
  },
  {
   "cell_type": "code",
   "execution_count": 8,
   "id": "cdf638ab",
   "metadata": {},
   "outputs": [],
   "source": [
    "#clustering_coeff = nx.clustering(G_ddi)"
   ]
  },
  {
   "cell_type": "code",
   "execution_count": 9,
   "id": "434ae156",
   "metadata": {
    "scrolled": true
   },
   "outputs": [],
   "source": [
    "#triangle_nodes = dict(nx.triangles(G_ddi))"
   ]
  },
  {
   "cell_type": "code",
   "execution_count": 10,
   "id": "2dbf8f7d",
   "metadata": {},
   "outputs": [],
   "source": [
    "#nn_degree = nx.average_neighbor_degree(G_ddi)"
   ]
  },
  {
   "cell_type": "code",
   "execution_count": 14,
   "id": "1991e023",
   "metadata": {},
   "outputs": [],
   "source": [
    "#load_centrality_nodes = nx.load_centrality(G_ddi)"
   ]
  },
  {
   "cell_type": "code",
   "execution_count": 15,
   "id": "ae5cdf41",
   "metadata": {
    "scrolled": true
   },
   "outputs": [],
   "source": [
    "#betweenness_cetrality = dict(nx.betweenness_centrality(G_ddi))"
   ]
  },
  {
   "cell_type": "code",
   "execution_count": 129,
   "id": "ae6a5cb6",
   "metadata": {},
   "outputs": [],
   "source": [
    "#with open('clustering_coeff_train.pickle', 'wb') as handle:\n",
    "#    pickle.dump(clustering_coeff, handle, protocol=pickle.HIGHEST_PROTOCOL)\n",
    "    \n",
    "    \n",
    "#with open('triangle_nodes_train.pickle', 'wb') as handle:\n",
    "#    pickle.dump(triangle_nodes, handle, protocol=pickle.HIGHEST_PROTOCOL)\n",
    "    \n",
    "    \n",
    "#with open('load_centrality_nodes_train.pickle', 'wb') as handle:\n",
    "#    pickle.dump(load_centrality_nodes, handle, protocol=pickle.HIGHEST_PROTOCOL)\n",
    "    \n",
    "    \n",
    "#with open('betweenness_cetrality_train.pickle', 'wb') as handle:\n",
    "#    pickle.dump(betweenness_cetrality, handle, protocol=pickle.HIGHEST_PROTOCOL)\n",
    "\n",
    "with open('clustering_coeff_train.pickle', 'rb') as handle:\n",
    "    clustering_coeff = pickle.load(handle)\n",
    "\n",
    "with open('triangle_nodes_train.pickle', 'rb') as handle:\n",
    "    triangle_nodes = pickle.load(handle)\n",
    "    \n",
    "with open('betweenness_cetrality_train.pickle', 'rb') as handle:\n",
    "    betweenness_cetrality = pickle.load(handle)"
   ]
  },
  {
   "cell_type": "code",
   "execution_count": 130,
   "id": "503ef853",
   "metadata": {},
   "outputs": [],
   "source": [
    "network_data = network_data[[0,1,'binary_label']]"
   ]
  },
  {
   "cell_type": "code",
   "execution_count": 131,
   "id": "7dbf62cb",
   "metadata": {},
   "outputs": [
    {
     "name": "stderr",
     "output_type": "stream",
     "text": [
      "100%|█████████████████████████████████████████████████████████████████████████████████████████████████████████████████| 4267/4267 [00:00<00:00, 299242.50it/s]\n"
     ]
    }
   ],
   "source": [
    "node_feature_dict = dict()\n",
    "\n",
    "for node in tqdm(all_nodes):\n",
    "    node_feat_list = []\n",
    "    node_feat_list.append(degree_nodes[node])\n",
    "    node_feat_list.append(clustering_coeff[node])\n",
    "    #node_feat_list.append(nx.triangles(G_ddi,node))\n",
    "    node_feat_list.append(triangle_nodes[node])\n",
    "    #node_feat_list.append(nn_degree[node])\n",
    "    #node_feat_list.append(load_centrality_nodes[node])\n",
    "    node_feat_list.append(betweenness_cetrality[node])\n",
    "    #node_feat_list.append(betweenness_cetrality[node])\n",
    "    node_feature_dict[node] = node_feat_list"
   ]
  },
  {
   "cell_type": "code",
   "execution_count": 132,
   "id": "620bf01c",
   "metadata": {},
   "outputs": [
    {
     "name": "stderr",
     "output_type": "stream",
     "text": [
      "31015it [00:02, 10974.70it/s]/home/chatterjee.ay/.conda/envs/topology/lib/python3.7/site-packages/ipykernel_launcher.py:6: RuntimeWarning: divide by zero encountered in log\n",
      "  \n",
      "2135822it [02:59, 11921.89it/s]\n"
     ]
    }
   ],
   "source": [
    "feature_edge_list = np.zeros((len(network_data),2*4))\n",
    "i = 0\n",
    "\n",
    "for index, row in tqdm(network_data.iterrows()):\n",
    "    try:\n",
    "        feature_edge_list[i,:] = np.log(np.concatenate((np.array(node_feature_dict[row[0]]),np.array(node_feature_dict[row[1]]))))\n",
    "    except:\n",
    "        feature_edge_list[i,:] =  np.log(np.random.rand(2*4,))\n",
    "    i = i + 1"
   ]
  },
  {
   "cell_type": "code",
   "execution_count": 133,
   "id": "fa9d9859",
   "metadata": {},
   "outputs": [],
   "source": [
    "X = np.array(feature_edge_list)\n",
    "X[X == -inf] = 0\n",
    "#X = normalize(X, axis=1, norm='l2')\n",
    "X = (X - X.mean(axis=0)) / X.std(axis=0)\n",
    "y = np.array(network_data['binary_label'].tolist())"
   ]
  },
  {
   "cell_type": "code",
   "execution_count": 134,
   "id": "96a051fa",
   "metadata": {},
   "outputs": [
    {
     "name": "stdout",
     "output_type": "stream",
     "text": [
      "Feature: 0, Score: 5.39508\n",
      "Feature: 1, Score: -0.41293\n",
      "Feature: 2, Score: 3.36869\n",
      "Feature: 3, Score: -3.37290\n",
      "Feature: 4, Score: 2.42276\n",
      "Feature: 5, Score: 1.01944\n",
      "Feature: 6, Score: 1.18260\n",
      "Feature: 7, Score: -1.22630\n"
     ]
    },
    {
     "data": {
      "image/png": "[encoded data removed]",
      "text/plain": [
       "<Figure size 432x288 with 1 Axes>"
      ]
     },
     "metadata": {
      "needs_background": "light"
     },
     "output_type": "display_data"
    }
   ],
   "source": [
    "# define dataset\n",
    "#X, y = make_classification(n_samples=1000, n_features=10, n_informative=5, n_redundant=5, random_state=1)\n",
    "# define the model\n",
    "model = LogisticRegression()\n",
    "# fit the model\n",
    "model.fit(X, y)\n",
    "# get importance\n",
    "importance = model.coef_[0]\n",
    "# summarize feature importance\n",
    "for i,v in enumerate(importance):\n",
    "    print('Feature: %0d, Score: %.5f' % (i,v))\n",
    "# plot feature importance\n",
    "pyplot.bar([x for x in range(len(importance))], importance)\n",
    "pyplot.show()"
   ]
  },
  {
   "cell_type": "markdown",
   "id": "7cb92c89",
   "metadata": {},
   "source": [
    "# Test"
   ]
  },
  {
   "cell_type": "code",
   "execution_count": 135,
   "id": "5733a777",
   "metadata": {},
   "outputs": [],
   "source": [
    "G_ddi_test = nx.from_pandas_edgelist(pos_test_edge_df, 0, 1, create_using=nx.Graph()) ## Whole graph"
   ]
  },
  {
   "cell_type": "code",
   "execution_count": 136,
   "id": "2d1f002a",
   "metadata": {},
   "outputs": [],
   "source": [
    "N = G_ddi_test.number_of_nodes()"
   ]
  },
  {
   "cell_type": "code",
   "execution_count": 137,
   "id": "16f2765c",
   "metadata": {},
   "outputs": [
    {
     "name": "stdout",
     "output_type": "stream",
     "text": [
      "density  0.10280515623820724\n",
      "Positive Edgelist  133489\n",
      "Negative Edgelist  95599\n"
     ]
    }
   ],
   "source": [
    "netpos=nx.to_pandas_edgelist(G_ddi_test, source=0, target=1)\n",
    "netpos['binary_label']=[1 for c in range(netpos.shape[0])]\n",
    "print('density ', 2*len(G_ddi_test.edges)/N/(N-1)) \n",
    "print('Positive Edgelist ', netpos.shape[0])\n",
    "#Gc=nx.complement(G_ddi_test)\n",
    "#print('Total Neg Edgelist ', len(Gc.edges))\n",
    "#print('density ', 2*len(Gc.edges)/N/(N-1)) \n",
    "    \n",
    "#if typeneg=='real':\n",
    "#netneg=nx.to_pandas_edgelist(Gc, source='node_1', target='node_2')\n",
    "#elif typeneg=='equal':\n",
    "netneg = neg_test_edge_df.rename(columns={0:'node_1',1:'node_2'}) #nx.to_pandas_edgelist(Gc, source='node_1', target='node_2').sample(n=len(G_ddi_test.edges))\n",
    "#else:\n",
    "#    return\n",
    "    \n",
    "netneg['binary_label']=[0 for c in range(netneg.shape[0])]\n",
    "print('Negative Edgelist ', netneg.shape[0])\n",
    "network_data_test =pd.concat([netpos, netneg])"
   ]
  },
  {
   "cell_type": "code",
   "execution_count": 138,
   "id": "5a993871",
   "metadata": {},
   "outputs": [
    {
     "name": "stdout",
     "output_type": "stream",
     "text": [
      "Nodes in the network:  1612\n"
     ]
    }
   ],
   "source": [
    "all_nodes = list(G_ddi_test.nodes())\n",
    "print('Nodes in the network: ', len(all_nodes))"
   ]
  },
  {
   "cell_type": "code",
   "execution_count": 139,
   "id": "793da4c9",
   "metadata": {},
   "outputs": [],
   "source": [
    "degree_nodes = dict(G_ddi_test.degree())"
   ]
  },
  {
   "cell_type": "code",
   "execution_count": 27,
   "id": "cec26ca7",
   "metadata": {},
   "outputs": [],
   "source": [
    "#clustering_coeff = nx.clustering(G_ddi_test)"
   ]
  },
  {
   "cell_type": "code",
   "execution_count": 28,
   "id": "af554e59",
   "metadata": {
    "scrolled": true
   },
   "outputs": [],
   "source": [
    "#triangle_nodes = dict(nx.triangles(G_ddi_test))"
   ]
  },
  {
   "cell_type": "code",
   "execution_count": 29,
   "id": "fec20abf",
   "metadata": {},
   "outputs": [],
   "source": [
    "#nn_degree = nx.average_neighbor_degree(G_ddi_test)"
   ]
  },
  {
   "cell_type": "code",
   "execution_count": 30,
   "id": "2b2a10b0",
   "metadata": {},
   "outputs": [],
   "source": [
    "#load_centrality_nodes = nx.load_centrality(G_ddi_test)"
   ]
  },
  {
   "cell_type": "code",
   "execution_count": null,
   "id": "ea2b010b",
   "metadata": {
    "scrolled": true
   },
   "outputs": [],
   "source": [
    "#betweenness_cetrality = dict(nx.betweenness_centrality(G_ddi_test))"
   ]
  },
  {
   "cell_type": "code",
   "execution_count": 140,
   "id": "6d9a37ea",
   "metadata": {},
   "outputs": [],
   "source": [
    "#with open('clustering_coeff_test.pickle', 'wb') as handle:\n",
    "#    pickle.dump(clustering_coeff, handle, protocol=pickle.HIGHEST_PROTOCOL)\n",
    "    \n",
    "    \n",
    "#with open('triangle_nodes_test.pickle', 'wb') as handle:\n",
    "#    pickle.dump(triangle_nodes, handle, protocol=pickle.HIGHEST_PROTOCOL)\n",
    "    \n",
    "    \n",
    "#with open('load_centrality_nodes_test.pickle', 'wb') as handle:\n",
    "#    pickle.dump(load_centrality_nodes, handle, protocol=pickle.HIGHEST_PROTOCOL)\n",
    "    \n",
    "    \n",
    "#with open('betweenness_cetrality_test.pickle', 'wb') as handle:\n",
    "#    pickle.dump(betweenness_cetrality, handle, protocol=pickle.HIGHEST_PROTOCOL)\n",
    "    \n",
    "with open('clustering_coeff_test.pickle', 'rb') as handle:\n",
    "    clustering_coeff = pickle.load(handle)\n",
    "\n",
    "with open('triangle_nodes_test.pickle', 'rb') as handle:\n",
    "    triangle_nodes = pickle.load(handle)\n",
    "    \n",
    "with open('betweenness_cetrality_test.pickle', 'rb') as handle:\n",
    "    betweenness_cetrality = pickle.load(handle)"
   ]
  },
  {
   "cell_type": "code",
   "execution_count": 43,
   "id": "7dccc559",
   "metadata": {},
   "outputs": [],
   "source": [
    "network_data_test = network_data_test[[0,1,'binary_label']]"
   ]
  },
  {
   "cell_type": "code",
   "execution_count": 44,
   "id": "acc450cc",
   "metadata": {},
   "outputs": [
    {
     "name": "stderr",
     "output_type": "stream",
     "text": [
      "100%|█████████████████████████████████████████████████████████████████████████████████████████████████████████████████| 1612/1612 [00:00<00:00, 741768.30it/s]\n"
     ]
    }
   ],
   "source": [
    "node_feature_dict = dict()\n",
    "\n",
    "for node in tqdm(all_nodes):\n",
    "    node_feat_list = []\n",
    "    node_feat_list.append(degree_nodes[node])\n",
    "    node_feat_list.append(clustering_coeff[node])\n",
    "    #node_feat_list.append(nx.triangles(G_ddi,node))\n",
    "    node_feat_list.append(triangle_nodes[node])\n",
    "    #node_feat_list.append(nn_degree[node])\n",
    "    #node_feat_list.append(load_centrality_nodes[node])\n",
    "    node_feat_list.append(betweenness_cetrality[node])\n",
    "    #node_feat_list.append(betweenness_cetrality[node])\n",
    "    node_feature_dict[node] = node_feat_list"
   ]
  },
  {
   "cell_type": "code",
   "execution_count": 46,
   "id": "17e165d1",
   "metadata": {
    "scrolled": true
   },
   "outputs": [
    {
     "name": "stderr",
     "output_type": "stream",
     "text": [
      "9674it [00:00, 10199.98it/s]/home/chatterjee.ay/.conda/envs/topology/lib/python3.7/site-packages/ipykernel_launcher.py:6: RuntimeWarning: divide by zero encountered in log\n",
      "  \n",
      "229088it [00:19, 11573.14it/s]\n"
     ]
    }
   ],
   "source": [
    "feature_edge_list = np.zeros((len(network_data_test),2*4))\n",
    "i = 0\n",
    "\n",
    "for index, row in tqdm(network_data_test.iterrows()):\n",
    "    try:\n",
    "        feature_edge_list[i,:] = np.log(np.concatenate((np.array(node_feature_dict[row[0]]),np.array(node_feature_dict[row[1]]))))\n",
    "    except:\n",
    "        feature_edge_list[i,:] =  np.log(np.random.rand(2*4,))\n",
    "    i = i + 1"
   ]
  },
  {
   "cell_type": "code",
   "execution_count": 47,
   "id": "95f8c32e",
   "metadata": {},
   "outputs": [],
   "source": [
    "X_test = np.array(feature_edge_list)\n",
    "X_test[X_test == -inf] = 0\n",
    "#X = normalize(X, axis=1, norm='l2')\n",
    "X_test = (X_test - X_test.mean(axis=0)) / X_test.std(axis=0)\n",
    "y_test = np.array(network_data_test['binary_label'].tolist())"
   ]
  },
  {
   "cell_type": "code",
   "execution_count": 48,
   "id": "8e200a38",
   "metadata": {},
   "outputs": [],
   "source": [
    "y_predicted = model.predict(X_test)"
   ]
  },
  {
   "cell_type": "code",
   "execution_count": 49,
   "id": "2eab869e",
   "metadata": {
    "scrolled": true
   },
   "outputs": [
    {
     "name": "stdout",
     "output_type": "stream",
     "text": [
      "1.0\n"
     ]
    }
   ],
   "source": [
    "fpr, tpr, thresholds = metrics.roc_curve(y_test, y_predicted)\n",
    "print(metrics.auc(fpr, tpr))"
   ]
  },
  {
   "cell_type": "code",
   "execution_count": 50,
   "id": "130ea28c",
   "metadata": {},
   "outputs": [
    {
     "data": {
      "text/plain": [
       "1.0"
      ]
     },
     "execution_count": 50,
     "metadata": {},
     "output_type": "execute_result"
    }
   ],
   "source": [
    "average_precision_score(y_test, y_predicted)"
   ]
  },
  {
   "cell_type": "markdown",
   "id": "a7fa407d",
   "metadata": {},
   "source": [
    "# Run predictions w/o degree "
   ]
  },
  {
   "cell_type": "markdown",
   "id": "75f68cb1",
   "metadata": {},
   "source": [
    "# Train"
   ]
  },
  {
   "cell_type": "code",
   "execution_count": 61,
   "id": "5995acbf",
   "metadata": {},
   "outputs": [
    {
     "name": "stdout",
     "output_type": "stream",
     "text": [
      "Nodes in the network:  4267\n"
     ]
    }
   ],
   "source": [
    "all_nodes = list(G_ddi.nodes())\n",
    "print('Nodes in the network: ', len(all_nodes))"
   ]
  },
  {
   "cell_type": "code",
   "execution_count": 62,
   "id": "e5993fd8",
   "metadata": {},
   "outputs": [],
   "source": [
    "degree_nodes = dict(G_ddi.degree())"
   ]
  },
  {
   "cell_type": "code",
   "execution_count": 53,
   "id": "a38e7c09",
   "metadata": {},
   "outputs": [],
   "source": [
    "#clustering_coeff = nx.clustering(G_ddi)"
   ]
  },
  {
   "cell_type": "code",
   "execution_count": 54,
   "id": "ead146cd",
   "metadata": {
    "scrolled": true
   },
   "outputs": [],
   "source": [
    "#triangle_nodes = dict(nx.triangles(G_ddi))"
   ]
  },
  {
   "cell_type": "code",
   "execution_count": 55,
   "id": "25f2ee0b",
   "metadata": {},
   "outputs": [],
   "source": [
    "#nn_degree = nx.average_neighbor_degree(G_ddi)"
   ]
  },
  {
   "cell_type": "code",
   "execution_count": 56,
   "id": "632170a8",
   "metadata": {},
   "outputs": [],
   "source": [
    "#load_centrality_nodes = nx.load_centrality(G_ddi)"
   ]
  },
  {
   "cell_type": "code",
   "execution_count": 57,
   "id": "99579753",
   "metadata": {
    "scrolled": true
   },
   "outputs": [],
   "source": [
    "#betweenness_cetrality = dict(nx.betweenness_centrality(G_ddi))"
   ]
  },
  {
   "cell_type": "code",
   "execution_count": 63,
   "id": "799d9d90",
   "metadata": {},
   "outputs": [],
   "source": [
    "with open('clustering_coeff_train.pickle', 'rb') as handle:\n",
    "    clustering_coeff = pickle.load(handle)\n",
    "\n",
    "with open('triangle_nodes_train.pickle', 'rb') as handle:\n",
    "    triangle_nodes = pickle.load(handle)\n",
    "    \n",
    "with open('betweenness_cetrality_train.pickle', 'rb') as handle:\n",
    "    betweenness_cetrality = pickle.load(handle)"
   ]
  },
  {
   "cell_type": "code",
   "execution_count": 64,
   "id": "fa6b2d31",
   "metadata": {},
   "outputs": [],
   "source": [
    "network_data = network_data[[0,1,'binary_label']]"
   ]
  },
  {
   "cell_type": "code",
   "execution_count": 65,
   "id": "e6751a78",
   "metadata": {},
   "outputs": [
    {
     "name": "stderr",
     "output_type": "stream",
     "text": [
      "100%|█████████████████████████████████████████████████████████████████████████████████████████████████████████████████| 4267/4267 [00:00<00:00, 957780.97it/s]\n"
     ]
    }
   ],
   "source": [
    "node_feature_dict = dict()\n",
    "\n",
    "for node in tqdm(all_nodes):\n",
    "    node_feat_list = []\n",
    "    #node_feat_list.append(degree_nodes[node])\n",
    "    node_feat_list.append(clustering_coeff[node])\n",
    "    #node_feat_list.append(nx.triangles(G_ddi,node))\n",
    "    node_feat_list.append(triangle_nodes[node])\n",
    "    #node_feat_list.append(nn_degree[node])\n",
    "    #node_feat_list.append(load_centrality_nodes[node])\n",
    "    node_feat_list.append(betweenness_cetrality[node])\n",
    "    #node_feat_list.append(betweenness_cetrality[node])\n",
    "    node_feature_dict[node] = node_feat_list"
   ]
  },
  {
   "cell_type": "code",
   "execution_count": 66,
   "id": "bcd6084f",
   "metadata": {},
   "outputs": [
    {
     "name": "stderr",
     "output_type": "stream",
     "text": [
      "29597it [00:01, 22360.37it/s]/home/chatterjee.ay/.conda/envs/topology/lib/python3.7/site-packages/ipykernel_launcher.py:6: RuntimeWarning: divide by zero encountered in log\n",
      "  \n",
      "2135822it [01:28, 24110.62it/s]\n"
     ]
    }
   ],
   "source": [
    "feature_edge_list = np.zeros((len(network_data),2*3))\n",
    "i = 0\n",
    "\n",
    "for index, row in tqdm(network_data.iterrows()):\n",
    "    try:\n",
    "        feature_edge_list[i,:] = np.log(np.concatenate((np.array(node_feature_dict[row[0]]),np.array(node_feature_dict[row[1]]))))\n",
    "    except:\n",
    "        feature_edge_list[i,:] =  np.log(np.random.rand(2*3,))\n",
    "    i = i + 1"
   ]
  },
  {
   "cell_type": "code",
   "execution_count": 67,
   "id": "7cef9df9",
   "metadata": {},
   "outputs": [],
   "source": [
    "X = np.array(feature_edge_list)\n",
    "X[X == -inf] = 0\n",
    "#X = normalize(X, axis=1, norm='l2')\n",
    "X = (X - X.mean(axis=0)) / X.std(axis=0)\n",
    "y = np.array(network_data['binary_label'].tolist())"
   ]
  },
  {
   "cell_type": "code",
   "execution_count": 68,
   "id": "9d4d8c09",
   "metadata": {},
   "outputs": [
    {
     "name": "stdout",
     "output_type": "stream",
     "text": [
      "Feature: 0, Score: -0.40489\n",
      "Feature: 1, Score: 7.84032\n",
      "Feature: 2, Score: -3.81754\n",
      "Feature: 3, Score: 1.02554\n",
      "Feature: 4, Score: 2.57870\n",
      "Feature: 5, Score: -1.95383\n"
     ]
    },
    {
     "data": {
      "image/png": "[encoded data removed]",
      "text/plain": [
       "<Figure size 432x288 with 1 Axes>"
      ]
     },
     "metadata": {
      "needs_background": "light"
     },
     "output_type": "display_data"
    }
   ],
   "source": [
    "# define dataset\n",
    "#X, y = make_classification(n_samples=1000, n_features=10, n_informative=5, n_redundant=5, random_state=1)\n",
    "# define the model\n",
    "model = LogisticRegression()\n",
    "# fit the model\n",
    "model.fit(X, y)\n",
    "# get importance\n",
    "importance = model.coef_[0]\n",
    "# summarize feature importance\n",
    "for i,v in enumerate(importance):\n",
    "    print('Feature: %0d, Score: %.5f' % (i,v))\n",
    "# plot feature importance\n",
    "pyplot.bar([x for x in range(len(importance))], importance)\n",
    "pyplot.show()"
   ]
  },
  {
   "cell_type": "markdown",
   "id": "d6009d62",
   "metadata": {},
   "source": [
    "# Test"
   ]
  },
  {
   "cell_type": "code",
   "execution_count": 69,
   "id": "d2305006",
   "metadata": {},
   "outputs": [],
   "source": [
    "degree_nodes = dict(G_ddi_test.degree())"
   ]
  },
  {
   "cell_type": "code",
   "execution_count": 126,
   "id": "8eba28bb",
   "metadata": {},
   "outputs": [],
   "source": [
    "#clustering_coeff = nx.clustering(G_ddi_test)"
   ]
  },
  {
   "cell_type": "code",
   "execution_count": 127,
   "id": "c2423090",
   "metadata": {
    "scrolled": true
   },
   "outputs": [],
   "source": [
    "#triangle_nodes = dict(nx.triangles(G_ddi_test))"
   ]
  },
  {
   "cell_type": "code",
   "execution_count": 128,
   "id": "e4dac6d5",
   "metadata": {},
   "outputs": [],
   "source": [
    "#nn_degree = nx.average_neighbor_degree(G_ddi_test)"
   ]
  },
  {
   "cell_type": "code",
   "execution_count": 129,
   "id": "dd4d5f6b",
   "metadata": {},
   "outputs": [],
   "source": [
    "#load_centrality_nodes = nx.load_centrality(G_ddi_test)"
   ]
  },
  {
   "cell_type": "code",
   "execution_count": 130,
   "id": "2190b574",
   "metadata": {
    "scrolled": true
   },
   "outputs": [],
   "source": [
    "#betweenness_cetrality = dict(nx.betweenness_centrality(G_ddi_test))"
   ]
  },
  {
   "cell_type": "code",
   "execution_count": 70,
   "id": "30cf4768",
   "metadata": {},
   "outputs": [],
   "source": [
    "with open('clustering_coeff_test.pickle', 'rb') as handle:\n",
    "    clustering_coeff = pickle.load(handle)\n",
    "\n",
    "with open('triangle_nodes_test.pickle', 'rb') as handle:\n",
    "    triangle_nodes = pickle.load(handle)\n",
    "    \n",
    "with open('betweenness_cetrality_test.pickle', 'rb') as handle:\n",
    "    betweenness_cetrality = pickle.load(handle)"
   ]
  },
  {
   "cell_type": "code",
   "execution_count": 71,
   "id": "07b1b36d",
   "metadata": {},
   "outputs": [],
   "source": [
    "network_data_test = network_data_test[[0,1,'binary_label']]"
   ]
  },
  {
   "cell_type": "code",
   "execution_count": 72,
   "id": "4191305a",
   "metadata": {},
   "outputs": [
    {
     "name": "stdout",
     "output_type": "stream",
     "text": [
      "Nodes in the network:  1612\n"
     ]
    }
   ],
   "source": [
    "all_nodes = list(G_ddi_test.nodes())\n",
    "print('Nodes in the network: ', len(all_nodes))"
   ]
  },
  {
   "cell_type": "code",
   "execution_count": 73,
   "id": "19831bdf",
   "metadata": {},
   "outputs": [
    {
     "name": "stderr",
     "output_type": "stream",
     "text": [
      "100%|█████████████████████████████████████████████████████████████████████████████████████████████████████████████████| 1612/1612 [00:00<00:00, 776081.04it/s]\n"
     ]
    }
   ],
   "source": [
    "node_feature_dict = dict()\n",
    "\n",
    "for node in tqdm(all_nodes):\n",
    "    node_feat_list = []\n",
    "    #node_feat_list.append(degree_nodes[node])\n",
    "    node_feat_list.append(clustering_coeff[node])\n",
    "    #node_feat_list.append(nx.triangles(G_ddi,node))\n",
    "    node_feat_list.append(triangle_nodes[node])\n",
    "    #node_feat_list.append(nn_degree[node])\n",
    "    #node_feat_list.append(load_centrality_nodes[node])\n",
    "    node_feat_list.append(betweenness_cetrality[node])\n",
    "    #node_feat_list.append(betweenness_cetrality[node])\n",
    "    node_feature_dict[node] = node_feat_list"
   ]
  },
  {
   "cell_type": "code",
   "execution_count": 77,
   "id": "0a8ea27b",
   "metadata": {
    "scrolled": true
   },
   "outputs": [
    {
     "name": "stderr",
     "output_type": "stream",
     "text": [
      "8460it [00:00, 21258.57it/s]/home/chatterjee.ay/.conda/envs/topology/lib/python3.7/site-packages/ipykernel_launcher.py:6: RuntimeWarning: divide by zero encountered in log\n",
      "  \n",
      "229088it [00:09, 23658.60it/s]\n"
     ]
    }
   ],
   "source": [
    "feature_edge_list = np.zeros((len(network_data_test),2*3))\n",
    "i = 0\n",
    "\n",
    "for index, row in tqdm(network_data_test.iterrows()):\n",
    "    try:\n",
    "        feature_edge_list[i,:] = np.log(np.concatenate((np.array(node_feature_dict[row[0]]),np.array(node_feature_dict[row[1]]))))\n",
    "    except:\n",
    "        feature_edge_list[i,:] =  np.log(np.random.rand(2*3,))\n",
    "    i = i + 1"
   ]
  },
  {
   "cell_type": "code",
   "execution_count": 78,
   "id": "b79a02cb",
   "metadata": {},
   "outputs": [],
   "source": [
    "X_test = np.array(feature_edge_list)\n",
    "X_test[X_test == -inf] = 0\n",
    "#X = normalize(X, axis=1, norm='l2')\n",
    "X_test = (X_test - X_test.mean(axis=0)) / X_test.std(axis=0)\n",
    "y_test = np.array(network_data_test['binary_label'].tolist())"
   ]
  },
  {
   "cell_type": "code",
   "execution_count": 79,
   "id": "6dd3382e",
   "metadata": {
    "scrolled": true
   },
   "outputs": [],
   "source": [
    "y_predicted = model.predict(X_test)"
   ]
  },
  {
   "cell_type": "code",
   "execution_count": 80,
   "id": "91e938c2",
   "metadata": {},
   "outputs": [
    {
     "name": "stdout",
     "output_type": "stream",
     "text": [
      "1.0\n"
     ]
    }
   ],
   "source": [
    "fpr, tpr, thresholds = metrics.roc_curve(y_test, y_predicted)\n",
    "print(metrics.auc(fpr, tpr))"
   ]
  },
  {
   "cell_type": "code",
   "execution_count": 81,
   "id": "b2a830f6",
   "metadata": {},
   "outputs": [
    {
     "data": {
      "text/plain": [
       "1.0"
      ]
     },
     "execution_count": 81,
     "metadata": {},
     "output_type": "execute_result"
    }
   ],
   "source": [
    "average_precision_score(y_test, y_predicted)"
   ]
  },
  {
   "cell_type": "markdown",
   "id": "80f8303e",
   "metadata": {},
   "source": [
    "# Run predictions w/o degree and traingle count"
   ]
  },
  {
   "cell_type": "markdown",
   "id": "c2d9c417",
   "metadata": {},
   "source": [
    "# Train"
   ]
  },
  {
   "cell_type": "code",
   "execution_count": 82,
   "id": "259d421f",
   "metadata": {},
   "outputs": [
    {
     "name": "stdout",
     "output_type": "stream",
     "text": [
      "Nodes in the network:  4267\n"
     ]
    }
   ],
   "source": [
    "all_nodes = list(G_ddi.nodes())\n",
    "print('Nodes in the network: ', len(all_nodes))"
   ]
  },
  {
   "cell_type": "code",
   "execution_count": 83,
   "id": "f459c265",
   "metadata": {},
   "outputs": [],
   "source": [
    "degree_nodes = dict(G_ddi.degree())"
   ]
  },
  {
   "cell_type": "code",
   "execution_count": 8,
   "id": "288e8513",
   "metadata": {},
   "outputs": [],
   "source": [
    "#clustering_coeff = nx.clustering(G_ddi)"
   ]
  },
  {
   "cell_type": "code",
   "execution_count": 9,
   "id": "fb119213",
   "metadata": {
    "scrolled": true
   },
   "outputs": [],
   "source": [
    "#triangle_nodes = dict(nx.triangles(G_ddi))"
   ]
  },
  {
   "cell_type": "code",
   "execution_count": 10,
   "id": "49c1d788",
   "metadata": {},
   "outputs": [],
   "source": [
    "#nn_degree = nx.average_neighbor_degree(G_ddi)"
   ]
  },
  {
   "cell_type": "code",
   "execution_count": 14,
   "id": "2166a75c",
   "metadata": {},
   "outputs": [],
   "source": [
    "#load_centrality_nodes = nx.load_centrality(G_ddi)"
   ]
  },
  {
   "cell_type": "code",
   "execution_count": 15,
   "id": "8c0a6a30",
   "metadata": {
    "scrolled": true
   },
   "outputs": [],
   "source": [
    "#betweenness_cetrality = dict(nx.betweenness_centrality(G_ddi))"
   ]
  },
  {
   "cell_type": "code",
   "execution_count": 84,
   "id": "8c03b651",
   "metadata": {},
   "outputs": [],
   "source": [
    "with open('clustering_coeff_train.pickle', 'rb') as handle:\n",
    "    clustering_coeff = pickle.load(handle)\n",
    "\n",
    "with open('triangle_nodes_train.pickle', 'rb') as handle:\n",
    "    triangle_nodes = pickle.load(handle)\n",
    "    \n",
    "with open('betweenness_cetrality_train.pickle', 'rb') as handle:\n",
    "    betweenness_cetrality = pickle.load(handle)\n",
    "    "
   ]
  },
  {
   "cell_type": "code",
   "execution_count": 85,
   "id": "4d1460e5",
   "metadata": {},
   "outputs": [],
   "source": [
    "network_data = network_data[[0,1,'binary_label']]"
   ]
  },
  {
   "cell_type": "code",
   "execution_count": 86,
   "id": "6ca6d1cb",
   "metadata": {},
   "outputs": [
    {
     "name": "stderr",
     "output_type": "stream",
     "text": [
      "100%|█████████████████████████████████████████████████████████████████████████████████████████████████████████████████| 4267/4267 [00:00<00:00, 952784.03it/s]\n"
     ]
    }
   ],
   "source": [
    "node_feature_dict = dict()\n",
    "\n",
    "for node in tqdm(all_nodes):\n",
    "    node_feat_list = []\n",
    "    #node_feat_list.append(degree_nodes[node])\n",
    "    node_feat_list.append(clustering_coeff[node])\n",
    "    #node_feat_list.append(nx.triangles(G_ddi,node))\n",
    "    #node_feat_list.append(triangle_nodes[node])\n",
    "    #node_feat_list.append(nn_degree[node])\n",
    "    #node_feat_list.append(load_centrality_nodes[node])\n",
    "    node_feat_list.append(betweenness_cetrality[node])\n",
    "    #node_feat_list.append(betweenness_cetrality[node])\n",
    "    node_feature_dict[node] = node_feat_list"
   ]
  },
  {
   "cell_type": "code",
   "execution_count": 87,
   "id": "0c736f53",
   "metadata": {},
   "outputs": [
    {
     "name": "stderr",
     "output_type": "stream",
     "text": [
      "29971it [00:01, 23369.80it/s]/home/chatterjee.ay/.conda/envs/topology/lib/python3.7/site-packages/ipykernel_launcher.py:6: RuntimeWarning: divide by zero encountered in log\n",
      "  \n",
      "2135822it [01:28, 24153.29it/s]\n"
     ]
    }
   ],
   "source": [
    "feature_edge_list = np.zeros((len(network_data),2*2))\n",
    "i = 0\n",
    "\n",
    "for index, row in tqdm(network_data.iterrows()):\n",
    "    try:\n",
    "        feature_edge_list[i,:] = np.log(np.concatenate((np.array(node_feature_dict[row[0]]),np.array(node_feature_dict[row[1]]))))\n",
    "    except:\n",
    "        feature_edge_list[i,:] =  np.log(np.random.rand(2*2,))\n",
    "    i = i + 1"
   ]
  },
  {
   "cell_type": "code",
   "execution_count": 88,
   "id": "e1d30a20",
   "metadata": {},
   "outputs": [],
   "source": [
    "X = np.array(feature_edge_list)\n",
    "X[X == -inf] = 0\n",
    "#X = normalize(X, axis=1, norm='l2')\n",
    "X = (X - X.mean(axis=0)) / X.std(axis=0)\n",
    "y = np.array(network_data['binary_label'].tolist())"
   ]
  },
  {
   "cell_type": "code",
   "execution_count": 89,
   "id": "24002c15",
   "metadata": {},
   "outputs": [
    {
     "name": "stdout",
     "output_type": "stream",
     "text": [
      "Feature: 0, Score: -0.13047\n",
      "Feature: 1, Score: -8.19349\n",
      "Feature: 2, Score: 0.10736\n",
      "Feature: 3, Score: -8.42699\n"
     ]
    },
    {
     "data": {
      "image/png": "[encoded data removed]",
      "text/plain": [
       "<Figure size 432x288 with 1 Axes>"
      ]
     },
     "metadata": {
      "needs_background": "light"
     },
     "output_type": "display_data"
    }
   ],
   "source": [
    "# define dataset\n",
    "#X, y = make_classification(n_samples=1000, n_features=10, n_informative=5, n_redundant=5, random_state=1)\n",
    "# define the model\n",
    "model = LogisticRegression()\n",
    "# fit the model\n",
    "model.fit(X, y)\n",
    "# get importance\n",
    "importance = model.coef_[0]\n",
    "# summarize feature importance\n",
    "for i,v in enumerate(importance):\n",
    "    print('Feature: %0d, Score: %.5f' % (i,v))\n",
    "# plot feature importance\n",
    "pyplot.bar([x for x in range(len(importance))], importance)\n",
    "pyplot.show()"
   ]
  },
  {
   "cell_type": "markdown",
   "id": "cde403c2",
   "metadata": {},
   "source": [
    "# Test"
   ]
  },
  {
   "cell_type": "code",
   "execution_count": 90,
   "id": "95f34bfe",
   "metadata": {},
   "outputs": [],
   "source": [
    "degree_nodes = dict(G_ddi_test.degree())"
   ]
  },
  {
   "cell_type": "code",
   "execution_count": 91,
   "id": "195ed30a",
   "metadata": {},
   "outputs": [],
   "source": [
    "#clustering_coeff = nx.clustering(G_ddi_test)"
   ]
  },
  {
   "cell_type": "code",
   "execution_count": 92,
   "id": "46572519",
   "metadata": {
    "scrolled": true
   },
   "outputs": [],
   "source": [
    "#triangle_nodes = dict(nx.triangles(G_ddi_test))"
   ]
  },
  {
   "cell_type": "code",
   "execution_count": 93,
   "id": "9a18369e",
   "metadata": {},
   "outputs": [],
   "source": [
    "#nn_degree = nx.average_neighbor_degree(G_ddi_test)"
   ]
  },
  {
   "cell_type": "code",
   "execution_count": 94,
   "id": "8e430b43",
   "metadata": {},
   "outputs": [],
   "source": [
    "#load_centrality_nodes = nx.load_centrality(G_ddi_test)"
   ]
  },
  {
   "cell_type": "code",
   "execution_count": 95,
   "id": "c5604c22",
   "metadata": {
    "scrolled": true
   },
   "outputs": [],
   "source": [
    "#betweenness_cetrality = dict(nx.betweenness_centrality(G_ddi_test))"
   ]
  },
  {
   "cell_type": "code",
   "execution_count": 96,
   "id": "4c27effd",
   "metadata": {},
   "outputs": [],
   "source": [
    "with open('clustering_coeff_test.pickle', 'rb') as handle:\n",
    "    clustering_coeff = pickle.load(handle)\n",
    "\n",
    "with open('triangle_nodes_test.pickle', 'rb') as handle:\n",
    "    triangle_nodes = pickle.load(handle)\n",
    "    \n",
    "with open('betweenness_cetrality_test.pickle', 'rb') as handle:\n",
    "    betweenness_cetrality = pickle.load(handle)"
   ]
  },
  {
   "cell_type": "code",
   "execution_count": 97,
   "id": "1adee807",
   "metadata": {},
   "outputs": [],
   "source": [
    "network_data_test = network_data_test[[0,1,'binary_label']]"
   ]
  },
  {
   "cell_type": "code",
   "execution_count": 98,
   "id": "d110b364",
   "metadata": {},
   "outputs": [
    {
     "name": "stdout",
     "output_type": "stream",
     "text": [
      "Nodes in the network:  1612\n"
     ]
    }
   ],
   "source": [
    "all_nodes = list(G_ddi_test.nodes())\n",
    "print('Nodes in the network: ', len(all_nodes))"
   ]
  },
  {
   "cell_type": "code",
   "execution_count": 99,
   "id": "c2df8560",
   "metadata": {},
   "outputs": [
    {
     "name": "stderr",
     "output_type": "stream",
     "text": [
      "100%|█████████████████████████████████████████████████████████████████████████████████████████████████████████████████| 1612/1612 [00:00<00:00, 825344.00it/s]\n"
     ]
    }
   ],
   "source": [
    "node_feature_dict = dict()\n",
    "\n",
    "for node in tqdm(all_nodes):\n",
    "    node_feat_list = []\n",
    "    #node_feat_list.append(degree_nodes[node])\n",
    "    node_feat_list.append(clustering_coeff[node])\n",
    "    #node_feat_list.append(nx.triangles(G_ddi,node))\n",
    "    #node_feat_list.append(triangle_nodes[node])\n",
    "    #node_feat_list.append(nn_degree[node])\n",
    "    #node_feat_list.append(load_centrality_nodes[node])\n",
    "    node_feat_list.append(betweenness_cetrality[node])\n",
    "    #node_feat_list.append(betweenness_cetrality[node])\n",
    "    node_feature_dict[node] = node_feat_list"
   ]
  },
  {
   "cell_type": "code",
   "execution_count": 100,
   "id": "4f8a73a0",
   "metadata": {},
   "outputs": [
    {
     "name": "stderr",
     "output_type": "stream",
     "text": [
      "8835it [00:00, 21802.65it/s]/home/chatterjee.ay/.conda/envs/topology/lib/python3.7/site-packages/ipykernel_launcher.py:6: RuntimeWarning: divide by zero encountered in log\n",
      "  \n",
      "229088it [00:09, 23665.42it/s]\n"
     ]
    }
   ],
   "source": [
    "feature_edge_list = np.zeros((len(network_data_test),2*2))\n",
    "i = 0\n",
    "\n",
    "for index, row in tqdm(network_data_test.iterrows()):\n",
    "    try:\n",
    "        feature_edge_list[i,:] = np.log(np.concatenate((np.array(node_feature_dict[row[0]]),np.array(node_feature_dict[row[1]]))))\n",
    "    except:\n",
    "        feature_edge_list[i,:] =  np.log(np.random.rand(2*2,))\n",
    "    i = i + 1"
   ]
  },
  {
   "cell_type": "code",
   "execution_count": 101,
   "id": "0e3a14a5",
   "metadata": {},
   "outputs": [],
   "source": [
    "X_test = np.array(feature_edge_list)\n",
    "X_test[X_test == -inf] = 0\n",
    "#X = normalize(X, axis=1, norm='l2')\n",
    "X_test = (X_test - X_test.mean(axis=0)) / X_test.std(axis=0)\n",
    "y_test = np.array(network_data_test['binary_label'].tolist())"
   ]
  },
  {
   "cell_type": "code",
   "execution_count": 102,
   "id": "7957e2fe",
   "metadata": {
    "scrolled": true
   },
   "outputs": [],
   "source": [
    "y_predicted = model.predict(X_test)"
   ]
  },
  {
   "cell_type": "code",
   "execution_count": 103,
   "id": "ec267ffe",
   "metadata": {},
   "outputs": [
    {
     "name": "stdout",
     "output_type": "stream",
     "text": [
      "0.9993447207415228\n"
     ]
    }
   ],
   "source": [
    "fpr, tpr, thresholds = metrics.roc_curve(y_test, y_predicted)\n",
    "print(metrics.auc(fpr, tpr))"
   ]
  },
  {
   "cell_type": "code",
   "execution_count": 104,
   "id": "4277b4d4",
   "metadata": {},
   "outputs": [
    {
     "data": {
      "text/plain": [
       "0.9994062214789877"
      ]
     },
     "execution_count": 104,
     "metadata": {},
     "output_type": "execute_result"
    }
   ],
   "source": [
    "average_precision_score(y_test, y_predicted)"
   ]
  },
  {
   "cell_type": "markdown",
   "id": "a13fac0c",
   "metadata": {},
   "source": [
    "# Run predictions w/ only degree"
   ]
  },
  {
   "cell_type": "markdown",
   "id": "b66b7012",
   "metadata": {},
   "source": [
    "# Train"
   ]
  },
  {
   "cell_type": "code",
   "execution_count": 229,
   "id": "b178e04c",
   "metadata": {},
   "outputs": [
    {
     "name": "stdout",
     "output_type": "stream",
     "text": [
      "Nodes in the network:  4267\n"
     ]
    }
   ],
   "source": [
    "all_nodes = list(G_ddi.nodes())\n",
    "print('Nodes in the network: ', len(all_nodes))"
   ]
  },
  {
   "cell_type": "code",
   "execution_count": 230,
   "id": "757b9c77",
   "metadata": {},
   "outputs": [],
   "source": [
    "degree_nodes = dict(G_ddi.degree())"
   ]
  },
  {
   "cell_type": "code",
   "execution_count": 8,
   "id": "2b5d8462",
   "metadata": {},
   "outputs": [],
   "source": [
    "#clustering_coeff = nx.clustering(G_ddi)"
   ]
  },
  {
   "cell_type": "code",
   "execution_count": 9,
   "id": "dd8fe697",
   "metadata": {
    "scrolled": true
   },
   "outputs": [],
   "source": [
    "#triangle_nodes = dict(nx.triangles(G_ddi))"
   ]
  },
  {
   "cell_type": "code",
   "execution_count": 10,
   "id": "dc6b3a0e",
   "metadata": {},
   "outputs": [],
   "source": [
    "#nn_degree = nx.average_neighbor_degree(G_ddi)"
   ]
  },
  {
   "cell_type": "code",
   "execution_count": 14,
   "id": "83443e90",
   "metadata": {},
   "outputs": [],
   "source": [
    "#load_centrality_nodes = nx.load_centrality(G_ddi)"
   ]
  },
  {
   "cell_type": "code",
   "execution_count": 15,
   "id": "ec9ebb7e",
   "metadata": {
    "scrolled": true
   },
   "outputs": [],
   "source": [
    "#betweenness_cetrality = dict(nx.betweenness_centrality(G_ddi))"
   ]
  },
  {
   "cell_type": "code",
   "execution_count": 231,
   "id": "57ad8794",
   "metadata": {},
   "outputs": [],
   "source": [
    "with open('clustering_coeff_train.pickle', 'rb') as handle:\n",
    "    clustering_coeff = pickle.load(handle)\n",
    "\n",
    "with open('triangle_nodes_train.pickle', 'rb') as handle:\n",
    "    triangle_nodes = pickle.load(handle)\n",
    "    \n",
    "with open('betweenness_cetrality_train.pickle', 'rb') as handle:\n",
    "    betweenness_cetrality = pickle.load(handle)\n",
    "    "
   ]
  },
  {
   "cell_type": "code",
   "execution_count": 232,
   "id": "b78a1e4b",
   "metadata": {},
   "outputs": [],
   "source": [
    "network_data = network_data[[0,1,'binary_label']]"
   ]
  },
  {
   "cell_type": "code",
   "execution_count": 233,
   "id": "8bc199f7",
   "metadata": {},
   "outputs": [
    {
     "name": "stderr",
     "output_type": "stream",
     "text": [
      "100%|█████████████████████████████████████████████████████████████████████████████████████████████████████████████████████████████████████████████████████████████████| 4267/4267 [00:00<00:00, 996997.11it/s]\n"
     ]
    }
   ],
   "source": [
    "node_feature_dict = dict()\n",
    "\n",
    "for node in tqdm(all_nodes):\n",
    "    node_feat_list = []\n",
    "    node_feat_list.append(degree_nodes[node])\n",
    "    #node_feat_list.append(clustering_coeff[node])\n",
    "    #node_feat_list.append(nx.triangles(G_ddi,node))\n",
    "    #node_feat_list.append(triangle_nodes[node])\n",
    "    #node_feat_list.append(nn_degree[node])\n",
    "    #node_feat_list.append(load_centrality_nodes[node])\n",
    "    #node_feat_list.append(betweenness_cetrality[node])\n",
    "    #node_feat_list.append(betweenness_cetrality[node])\n",
    "    node_feature_dict[node] = node_feat_list"
   ]
  },
  {
   "cell_type": "code",
   "execution_count": 234,
   "id": "d29c91ab",
   "metadata": {},
   "outputs": [
    {
     "name": "stderr",
     "output_type": "stream",
     "text": [
      "2669778it [01:41, 26301.67it/s]\n"
     ]
    }
   ],
   "source": [
    "feature_edge_list = np.zeros((len(network_data),1))\n",
    "i = 0\n",
    "\n",
    "for index, row in tqdm(network_data.iterrows()):\n",
    "    try:\n",
    "        feature_edge_list[i,:] = np.log((np.array(node_feature_dict[row[0]]) + np.array(node_feature_dict[row[1]]))/2)\n",
    "    except:\n",
    "        feature_edge_list[i,:] =  np.log(np.random.rand(1,))\n",
    "    i = i + 1"
   ]
  },
  {
   "cell_type": "code",
   "execution_count": 235,
   "id": "caa585d1",
   "metadata": {},
   "outputs": [],
   "source": [
    "X = np.array(feature_edge_list)\n",
    "X = normalize(X, axis=1, norm='l2')\n",
    "y = np.array(network_data['binary_label'].tolist())"
   ]
  },
  {
   "cell_type": "code",
   "execution_count": 236,
   "id": "56058b17",
   "metadata": {},
   "outputs": [
    {
     "name": "stdout",
     "output_type": "stream",
     "text": [
      "Feature: 0, Score: 12.28881\n"
     ]
    },
    {
     "data": {
      "image/png": "[encoded data removed]",
      "text/plain": [
       "<Figure size 432x288 with 1 Axes>"
      ]
     },
     "metadata": {
      "needs_background": "light"
     },
     "output_type": "display_data"
    }
   ],
   "source": [
    "# define dataset\n",
    "#X, y = make_classification(n_samples=1000, n_features=10, n_informative=5, n_redundant=5, random_state=1)\n",
    "# define the model\n",
    "model = LogisticRegression()\n",
    "# fit the model\n",
    "model.fit(X, y)\n",
    "# get importance\n",
    "importance = model.coef_[0]\n",
    "# summarize feature importance\n",
    "for i,v in enumerate(importance):\n",
    "    print('Feature: %0d, Score: %.5f' % (i,v))\n",
    "# plot feature importance\n",
    "pyplot.bar([x for x in range(len(importance))], importance)\n",
    "pyplot.show()"
   ]
  },
  {
   "cell_type": "markdown",
   "id": "cc0d08b1",
   "metadata": {},
   "source": [
    "# Test"
   ]
  },
  {
   "cell_type": "code",
   "execution_count": 237,
   "id": "e512faf8",
   "metadata": {},
   "outputs": [],
   "source": [
    "degree_nodes = dict(G_ddi_test.degree())"
   ]
  },
  {
   "cell_type": "code",
   "execution_count": 80,
   "id": "90848873",
   "metadata": {},
   "outputs": [],
   "source": [
    "#clustering_coeff = nx.clustering(G_ddi_test)"
   ]
  },
  {
   "cell_type": "code",
   "execution_count": 81,
   "id": "5a6e3dd9",
   "metadata": {
    "scrolled": true
   },
   "outputs": [],
   "source": [
    "#triangle_nodes = dict(nx.triangles(G_ddi_test))"
   ]
  },
  {
   "cell_type": "code",
   "execution_count": 82,
   "id": "3efdbbb8",
   "metadata": {},
   "outputs": [],
   "source": [
    "#nn_degree = nx.average_neighbor_degree(G_ddi_test)"
   ]
  },
  {
   "cell_type": "code",
   "execution_count": 83,
   "id": "7340d560",
   "metadata": {},
   "outputs": [],
   "source": [
    "#load_centrality_nodes = nx.load_centrality(G_ddi_test)"
   ]
  },
  {
   "cell_type": "code",
   "execution_count": 84,
   "id": "e1251f57",
   "metadata": {
    "scrolled": true
   },
   "outputs": [],
   "source": [
    "#betweenness_cetrality = dict(nx.betweenness_centrality(G_ddi_test))"
   ]
  },
  {
   "cell_type": "code",
   "execution_count": 238,
   "id": "e09c96a5",
   "metadata": {},
   "outputs": [],
   "source": [
    "with open('clustering_coeff_test.pickle', 'rb') as handle:\n",
    "    clustering_coeff = pickle.load(handle)\n",
    "\n",
    "with open('triangle_nodes_test.pickle', 'rb') as handle:\n",
    "    triangle_nodes = pickle.load(handle)\n",
    "    \n",
    "with open('betweenness_cetrality_test.pickle', 'rb') as handle:\n",
    "    betweenness_cetrality = pickle.load(handle)"
   ]
  },
  {
   "cell_type": "code",
   "execution_count": 239,
   "id": "036f9964",
   "metadata": {},
   "outputs": [],
   "source": [
    "network_data_test = network_data_test[[0,1,'binary_label']]"
   ]
  },
  {
   "cell_type": "code",
   "execution_count": 240,
   "id": "f574a1b5",
   "metadata": {},
   "outputs": [
    {
     "name": "stdout",
     "output_type": "stream",
     "text": [
      "Nodes in the network:  1612\n"
     ]
    }
   ],
   "source": [
    "all_nodes = list(G_ddi_test.nodes())\n",
    "print('Nodes in the network: ', len(all_nodes))"
   ]
  },
  {
   "cell_type": "code",
   "execution_count": 241,
   "id": "3685858e",
   "metadata": {},
   "outputs": [
    {
     "name": "stderr",
     "output_type": "stream",
     "text": [
      "100%|████████████████████████████████████████████████████████████████████████████████████████████████████████████████████████████████████████████████████████████████| 1612/1612 [00:00<00:00, 1398390.50it/s]\n"
     ]
    }
   ],
   "source": [
    "node_feature_dict = dict()\n",
    "\n",
    "for node in tqdm(all_nodes):\n",
    "    node_feat_list = []\n",
    "    node_feat_list.append(degree_nodes[node])\n",
    "    #node_feat_list.append(clustering_coeff[node])\n",
    "    #node_feat_list.append(nx.triangles(G_ddi,node))\n",
    "    #node_feat_list.append(triangle_nodes[node])\n",
    "    #node_feat_list.append(nn_degree[node])\n",
    "    #node_feat_list.append(load_centrality_nodes[node])\n",
    "    #node_feat_list.append(betweenness_cetrality[node])\n",
    "    #node_feat_list.append(betweenness_cetrality[node])\n",
    "    node_feature_dict[node] = node_feat_list"
   ]
  },
  {
   "cell_type": "code",
   "execution_count": 242,
   "id": "7d6ce199",
   "metadata": {},
   "outputs": [
    {
     "name": "stderr",
     "output_type": "stream",
     "text": [
      "229088it [00:08, 25586.22it/s]\n"
     ]
    }
   ],
   "source": [
    "feature_edge_list = np.zeros((len(network_data_test),1))\n",
    "i = 0\n",
    "\n",
    "for index, row in tqdm(network_data_test.iterrows()):\n",
    "    try:\n",
    "        feature_edge_list[i,:] = np.log((np.array(node_feature_dict[row[0]]) + np.array(node_feature_dict[row[1]]))/2)\n",
    "    except:\n",
    "        feature_edge_list[i,:] =  np.log(np.random.rand(1,))\n",
    "    i = i + 1"
   ]
  },
  {
   "cell_type": "code",
   "execution_count": 243,
   "id": "e7b74d38",
   "metadata": {},
   "outputs": [],
   "source": [
    "X_test = np.array(feature_edge_list)\n",
    "X_test = normalize(X_test, axis=1, norm='l2')\n",
    "y_test = np.array(network_data_test['binary_label'].tolist())"
   ]
  },
  {
   "cell_type": "code",
   "execution_count": 244,
   "id": "722fbb17",
   "metadata": {
    "scrolled": true
   },
   "outputs": [],
   "source": [
    "y_predicted = model.predict(X_test)"
   ]
  },
  {
   "cell_type": "code",
   "execution_count": 245,
   "id": "7a581409",
   "metadata": {},
   "outputs": [
    {
     "name": "stdout",
     "output_type": "stream",
     "text": [
      "1.0\n"
     ]
    }
   ],
   "source": [
    "fpr, tpr, thresholds = metrics.roc_curve(y_test, y_predicted)\n",
    "print(metrics.auc(fpr, tpr))"
   ]
  },
  {
   "cell_type": "code",
   "execution_count": 246,
   "id": "041dc6bf",
   "metadata": {},
   "outputs": [
    {
     "data": {
      "text/plain": [
       "1.0"
      ]
     },
     "execution_count": 246,
     "metadata": {},
     "output_type": "execute_result"
    }
   ],
   "source": [
    "average_precision_score(y_test, y_predicted)"
   ]
  },
  {
   "cell_type": "code",
   "execution_count": null,
   "id": "7f78f86a",
   "metadata": {},
   "outputs": [],
   "source": []
  }
 ],
 "metadata": {
  "kernelspec": {
   "display_name": "topology",
   "language": "python",
   "name": "topology"
  },
  "language_info": {
   "codemirror_mode": {
    "name": "ipython",
    "version": 3
   },
   "file_extension": ".py",
   "mimetype": "text/x-python",
   "name": "python",
   "nbconvert_exporter": "python",
   "pygments_lexer": "ipython3",
   "version": "3.7.13"
  }
 },
 "nbformat": 4,
 "nbformat_minor": 5
}
