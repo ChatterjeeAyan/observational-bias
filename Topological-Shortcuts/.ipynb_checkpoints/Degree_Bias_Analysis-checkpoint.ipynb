{
 "cells": [
  {
   "cell_type": "code",
   "execution_count": 1,
   "metadata": {},
   "outputs": [],
   "source": [
    "import networkx as nx\n",
    "import pandas as pd\n",
    "from tqdm import tqdm\n",
    "import numpy as np\n",
    "import networkx as nx\n",
    "from node2vec import Node2Vec\n",
    "from sklearn.neural_network import MLPClassifier\n",
    "from sklearn.metrics import roc_auc_score\n",
    "from sklearn.metrics import average_precision_score\n",
    "from sklearn.metrics.cluster import adjusted_mutual_info_score\n",
    "from sklearn.cluster import KMeans\n",
    "from sklearn.metrics import davies_bouldin_score\n",
    "import matplotlib.pyplot as plt\n",
    "import scipy\n",
    "from random import sample\n",
    "import csv\n",
    "from sklearn.model_selection import train_test_split\n",
    "from sklearn.neural_network import MLPClassifier\n",
    "import seaborn as sns\n",
    "import pickle"
   ]
  },
  {
   "cell_type": "markdown",
   "metadata": {},
   "source": [
    "# Data loading and processing"
   ]
  },
  {
   "cell_type": "code",
   "execution_count": 2,
   "metadata": {},
   "outputs": [
    {
     "name": "stderr",
     "output_type": "stream",
     "text": [
      "/var/folders/w6/v98v9n5530dgpqvxgt5w9f640000gp/T/ipykernel_36705/3760738712.py:1: FutureWarning: The error_bad_lines argument has been deprecated and will be removed in a future version. Use on_bad_lines in the future.\n",
      "\n",
      "\n",
      "  edges = pd.read_csv('edge.csv.gz', compression='gzip', header=0, sep=',', quotechar='\"', error_bad_lines=False, names=['node1','node2'])\n"
     ]
    }
   ],
   "source": [
    "edges = pd.read_csv('edge.csv.gz', compression='gzip', header=0, sep=',', quotechar='\"', error_bad_lines=False, names=['node1','node2'])\n",
    "G = nx.from_edgelist(zip(edges['node1'],edges['node2']), create_using=nx.Graph())"
   ]
  },
  {
   "cell_type": "code",
   "execution_count": 3,
   "metadata": {},
   "outputs": [],
   "source": [
    "G_complement = nx.complement(G)"
   ]
  },
  {
   "cell_type": "code",
   "execution_count": 5,
   "metadata": {
    "scrolled": true
   },
   "outputs": [],
   "source": [
    "negative_edges = sample(list(G_complement.edges()),len(edges)) "
   ]
  },
  {
   "cell_type": "code",
   "execution_count": 11,
   "metadata": {},
   "outputs": [
    {
     "name": "stderr",
     "output_type": "stream",
     "text": [
      "100%|████████████████████████████████████████████████████████████████████████████████████████████████████████████████████████████████████████████████████████████| 1067910/1067910 [00:00<00:00, 1219522.20it/s]\n"
     ]
    }
   ],
   "source": [
    "neg_edge_df = pd.DataFrame()\n",
    "node_1 = []\n",
    "node_2 = []\n",
    "\n",
    "for edge in tqdm(negative_edges):\n",
    "    node_1.append(int(edge[0]))\n",
    "    node_2.append(int(edge[1]))\n",
    "    \n",
    "neg_edge_df['node1'] = node_1\n",
    "neg_edge_df['node2'] = node_2"
   ]
  },
  {
   "cell_type": "code",
   "execution_count": 12,
   "metadata": {},
   "outputs": [],
   "source": [
    "all_data = pd.concat([edges,neg_edge_df])\n",
    "all_data['Y'] = [1] * len(edges) + [0] * len(neg_edge_df)"
   ]
  },
  {
   "cell_type": "code",
   "execution_count": 13,
   "metadata": {},
   "outputs": [
    {
     "data": {
      "text/html": [
       "<div>\n",
       "<style scoped>\n",
       "    .dataframe tbody tr th:only-of-type {\n",
       "        vertical-align: middle;\n",
       "    }\n",
       "\n",
       "    .dataframe tbody tr th {\n",
       "        vertical-align: top;\n",
       "    }\n",
       "\n",
       "    .dataframe thead th {\n",
       "        text-align: right;\n",
       "    }\n",
       "</style>\n",
       "<table border=\"1\" class=\"dataframe\">\n",
       "  <thead>\n",
       "    <tr style=\"text-align: right;\">\n",
       "      <th></th>\n",
       "      <th>node1</th>\n",
       "      <th>node2</th>\n",
       "      <th>Y</th>\n",
       "    </tr>\n",
       "  </thead>\n",
       "  <tbody>\n",
       "    <tr>\n",
       "      <th>0</th>\n",
       "      <td>4039</td>\n",
       "      <td>225</td>\n",
       "      <td>1</td>\n",
       "    </tr>\n",
       "    <tr>\n",
       "      <th>1</th>\n",
       "      <td>4039</td>\n",
       "      <td>3901</td>\n",
       "      <td>1</td>\n",
       "    </tr>\n",
       "    <tr>\n",
       "      <th>2</th>\n",
       "      <td>4039</td>\n",
       "      <td>223</td>\n",
       "      <td>1</td>\n",
       "    </tr>\n",
       "    <tr>\n",
       "      <th>3</th>\n",
       "      <td>4039</td>\n",
       "      <td>511</td>\n",
       "      <td>1</td>\n",
       "    </tr>\n",
       "    <tr>\n",
       "      <th>4</th>\n",
       "      <td>4039</td>\n",
       "      <td>1150</td>\n",
       "      <td>1</td>\n",
       "    </tr>\n",
       "  </tbody>\n",
       "</table>\n",
       "</div>"
      ],
      "text/plain": [
       "   node1  node2  Y\n",
       "0   4039    225  1\n",
       "1   4039   3901  1\n",
       "2   4039    223  1\n",
       "3   4039    511  1\n",
       "4   4039   1150  1"
      ]
     },
     "execution_count": 13,
     "metadata": {},
     "output_type": "execute_result"
    }
   ],
   "source": [
    "all_data.head()"
   ]
  },
  {
   "cell_type": "code",
   "execution_count": null,
   "metadata": {},
   "outputs": [
    {
     "name": "stderr",
     "output_type": "stream",
     "text": [
      "Computing transition probabilities: 100%|█████████████████████████████████████████████████████████████████████████████████████████████████████████████████████████████████| 4267/4267 [1:02:09<00:00,  1.14it/s]\n"
     ]
    }
   ],
   "source": [
    "node2vec = Node2Vec(G, dimensions=64, walk_length=30, num_walks=200, workers=4)  \n",
    "model = node2vec.fit(window=10, min_count=1, batch_words=4)  \n",
    "from node2vec.edges import HadamardEmbedder\n",
    "edges_embs = HadamardEmbedder(keyed_vectors=model.wv)"
   ]
  },
  {
   "cell_type": "code",
   "execution_count": null,
   "metadata": {},
   "outputs": [],
   "source": []
  },
  {
   "cell_type": "code",
   "execution_count": null,
   "metadata": {},
   "outputs": [],
   "source": []
  },
  {
   "cell_type": "code",
   "execution_count": null,
   "metadata": {},
   "outputs": [],
   "source": []
  },
  {
   "cell_type": "code",
   "execution_count": 23,
   "metadata": {},
   "outputs": [],
   "source": [
    "n2v_embeddings = np.load('n2v_emb.npy')"
   ]
  },
  {
   "cell_type": "code",
   "execution_count": 24,
   "metadata": {},
   "outputs": [
    {
     "data": {
      "text/plain": [
       "(4267, 128)"
      ]
     },
     "execution_count": 24,
     "metadata": {},
     "output_type": "execute_result"
    }
   ],
   "source": [
    "n2v_embeddings.shape"
   ]
  },
  {
   "cell_type": "markdown",
   "metadata": {},
   "source": [
    "# Train-test"
   ]
  },
  {
   "cell_type": "code",
   "execution_count": 26,
   "metadata": {},
   "outputs": [],
   "source": [
    "train_pos, test_pos = train_test_split(pos_edge_df, test_size=0.2)\n",
    "train_neg, test_neg = train_test_split(neg_edge_df, test_size=0.2)"
   ]
  },
  {
   "cell_type": "code",
   "execution_count": 29,
   "metadata": {
    "scrolled": true
   },
   "outputs": [],
   "source": [
    "all_train = pd.concat([train_pos,train_neg])\n",
    "all_train['Y'] = [1] * len(train_pos) + [0] * len(train_neg)"
   ]
  },
  {
   "cell_type": "code",
   "execution_count": 30,
   "metadata": {},
   "outputs": [
    {
     "name": "stderr",
     "output_type": "stream",
     "text": [
      "1708656it [07:04, 4023.33it/s]\n"
     ]
    }
   ],
   "source": [
    "node1_concat_node2_emb = []\n",
    "\n",
    "for index, row in tqdm(all_train.iterrows()):\n",
    "    node1_concat_node2_emb.append(list(n2v_embeddings[row['node_1']]) + list(n2v_embeddings[row['node_2']]))\n",
    "    \n",
    "all_train['edge_embed'] = node1_concat_node2_emb"
   ]
  },
  {
   "cell_type": "code",
   "execution_count": 32,
   "metadata": {},
   "outputs": [],
   "source": [
    "all_test = pd.concat([test_pos,test_neg])\n",
    "all_test['Y'] = [1] * len(test_pos) + [0] * len(test_neg)"
   ]
  },
  {
   "cell_type": "code",
   "execution_count": 33,
   "metadata": {},
   "outputs": [
    {
     "name": "stderr",
     "output_type": "stream",
     "text": [
      "427165it [02:08, 3330.67it/s]\n"
     ]
    }
   ],
   "source": [
    "node1_concat_node2_emb = []\n",
    "\n",
    "for index, row in tqdm(all_test.iterrows()):\n",
    "    node1_concat_node2_emb.append(list(n2v_embeddings[row['node_1']]) + list(n2v_embeddings[row['node_2']]))\n",
    "    \n",
    "all_test['edge_embed'] = node1_concat_node2_emb"
   ]
  },
  {
   "cell_type": "code",
   "execution_count": 36,
   "metadata": {},
   "outputs": [],
   "source": [
    "clf = MLPClassifier(hidden_layer_sizes=(3,256),\n",
    "                    random_state=5,\n",
    "                    verbose=True,\n",
    "                    learning_rate_init=0.01,\n",
    "                    max_iter=100)"
   ]
  },
  {
   "cell_type": "code",
   "execution_count": 37,
   "metadata": {
    "scrolled": true
   },
   "outputs": [
    {
     "name": "stdout",
     "output_type": "stream",
     "text": [
      "Iteration 1, loss = 0.27821718\n",
      "Iteration 2, loss = 0.27064691\n",
      "Iteration 3, loss = 0.26959330\n",
      "Iteration 4, loss = 0.26912137\n",
      "Iteration 5, loss = 0.26883527\n",
      "Iteration 6, loss = 0.26875873\n",
      "Iteration 7, loss = 0.26867704\n",
      "Iteration 8, loss = 0.26859496\n",
      "Iteration 9, loss = 0.26852764\n",
      "Iteration 10, loss = 0.26851655\n",
      "Iteration 11, loss = 0.26851216\n",
      "Iteration 12, loss = 0.26836811\n",
      "Iteration 13, loss = 0.26829960\n",
      "Iteration 14, loss = 0.26840892\n",
      "Iteration 15, loss = 0.26836210\n",
      "Iteration 16, loss = 0.26837240\n",
      "Iteration 17, loss = 0.26828808\n",
      "Iteration 18, loss = 0.26822901\n",
      "Iteration 19, loss = 0.26824533\n",
      "Iteration 20, loss = 0.26839111\n",
      "Iteration 21, loss = 0.26826384\n",
      "Iteration 22, loss = 0.26825588\n",
      "Iteration 23, loss = 0.26831983\n",
      "Training loss did not improve more than tol=0.000100 for 10 consecutive epochs. Stopping.\n"
     ]
    },
    {
     "data": {
      "text/plain": [
       "MLPClassifier(activation='relu', alpha=0.0001, batch_size='auto', beta_1=0.9,\n",
       "              beta_2=0.999, early_stopping=False, epsilon=1e-08,\n",
       "              hidden_layer_sizes=(3, 256), learning_rate='constant',\n",
       "              learning_rate_init=0.01, max_fun=15000, max_iter=100,\n",
       "              momentum=0.9, n_iter_no_change=10, nesterovs_momentum=True,\n",
       "              power_t=0.5, random_state=5, shuffle=True, solver='adam',\n",
       "              tol=0.0001, validation_fraction=0.1, verbose=True,\n",
       "              warm_start=False)"
      ]
     },
     "execution_count": 37,
     "metadata": {},
     "output_type": "execute_result"
    }
   ],
   "source": [
    "X_train = all_train['edge_embed'].tolist()\n",
    "y_train = all_train['Y'].tolist()\n",
    "clf.fit(X_train,y_train)"
   ]
  },
  {
   "cell_type": "code",
   "execution_count": 41,
   "metadata": {},
   "outputs": [],
   "source": [
    "X_test = all_test['edge_embed'].tolist()\n",
    "ypred = clf.predict(X_test)"
   ]
  },
  {
   "cell_type": "code",
   "execution_count": 42,
   "metadata": {},
   "outputs": [],
   "source": [
    "all_test['pred'] = ypred"
   ]
  },
  {
   "cell_type": "code",
   "execution_count": 66,
   "metadata": {},
   "outputs": [],
   "source": [
    "all_train.to_csv('all_train.csv')\n",
    "all_test.to_csv('all_test.csv')"
   ]
  },
  {
   "cell_type": "markdown",
   "metadata": {},
   "source": [
    "# Degree binning perfromance"
   ]
  },
  {
   "cell_type": "code",
   "execution_count": 46,
   "metadata": {},
   "outputs": [],
   "source": [
    "with open('degree_bins_ddi.pkl', 'rb') as handle:\n",
    "    bin_dict = pickle.load(handle)"
   ]
  },
  {
   "cell_type": "code",
   "execution_count": 48,
   "metadata": {},
   "outputs": [],
   "source": [
    "bin_1_nodes = bin_dict['bin_1']\n",
    "bin_2_nodes = bin_dict['bin_2']\n",
    "bin_3_nodes = bin_dict['bin_3']"
   ]
  },
  {
   "cell_type": "code",
   "execution_count": 49,
   "metadata": {},
   "outputs": [
    {
     "name": "stdout",
     "output_type": "stream",
     "text": [
      "13975\n"
     ]
    }
   ],
   "source": [
    "all_test_bin_1 = all_test[all_test['node_1'].isin(bin_1_nodes) & all_test['node_2'].isin(bin_1_nodes)]\n",
    "print(len(all_test_bin_1))"
   ]
  },
  {
   "cell_type": "code",
   "execution_count": 53,
   "metadata": {},
   "outputs": [
    {
     "name": "stdout",
     "output_type": "stream",
     "text": [
      "AUROC:  0.5\n",
      "AUPRC:  0.009516994633273703\n"
     ]
    }
   ],
   "source": [
    "print('AUROC: ', roc_auc_score(all_test_bin_1['Y'].tolist(),all_test_bin_1['pred'].tolist()))\n",
    "print('AUPRC: ', average_precision_score(all_test_bin_1['Y'].tolist(),all_test_bin_1['pred'].tolist()))"
   ]
  },
  {
   "cell_type": "code",
   "execution_count": 50,
   "metadata": {},
   "outputs": [
    {
     "name": "stdout",
     "output_type": "stream",
     "text": [
      "171114\n"
     ]
    }
   ],
   "source": [
    "all_test_bin_2 = all_test[all_test['node_1'].isin(bin_2_nodes) & all_test['node_2'].isin(bin_2_nodes)]\n",
    "print(len(all_test_bin_2))"
   ]
  },
  {
   "cell_type": "code",
   "execution_count": 54,
   "metadata": {},
   "outputs": [
    {
     "name": "stdout",
     "output_type": "stream",
     "text": [
      "AUROC:  0.8516938454234002\n",
      "AUPRC:  0.803759941642833\n"
     ]
    }
   ],
   "source": [
    "print('AUROC: ', roc_auc_score(all_test_bin_2['Y'].tolist(),all_test_bin_2['pred'].tolist()))\n",
    "print('AUPRC: ', average_precision_score(all_test_bin_2['Y'].tolist(),all_test_bin_2['pred'].tolist()))"
   ]
  },
  {
   "cell_type": "code",
   "execution_count": 51,
   "metadata": {},
   "outputs": [
    {
     "name": "stdout",
     "output_type": "stream",
     "text": [
      "25117\n"
     ]
    }
   ],
   "source": [
    "all_test_bin_3 = all_test[all_test['node_1'].isin(bin_3_nodes) & all_test['node_2'].isin(bin_3_nodes)]\n",
    "print(len(all_test_bin_3))"
   ]
  },
  {
   "cell_type": "code",
   "execution_count": 55,
   "metadata": {},
   "outputs": [
    {
     "name": "stdout",
     "output_type": "stream",
     "text": [
      "AUROC:  0.5326928310561292\n",
      "AUPRC:  0.9531479159173118\n"
     ]
    }
   ],
   "source": [
    "print('AUROC: ', roc_auc_score(all_test_bin_3['Y'].tolist(),all_test_bin_3['pred'].tolist()))\n",
    "print('AUPRC: ', average_precision_score(all_test_bin_3['Y'].tolist(),all_test_bin_3['pred'].tolist()))"
   ]
  },
  {
   "cell_type": "code",
   "execution_count": 56,
   "metadata": {},
   "outputs": [
    {
     "name": "stdout",
     "output_type": "stream",
     "text": [
      "AUROC:  0.8585328446872779\n",
      "AUPRC:  0.8383357016983317\n"
     ]
    }
   ],
   "source": [
    "all_test_bind_2_3 = pd.concat([all_test_bin_2,all_test_bin_3])\n",
    "print('AUROC: ', roc_auc_score(all_test_bind_2_3['Y'].tolist(),all_test_bind_2_3['pred'].tolist()))\n",
    "print('AUPRC: ', average_precision_score(all_test_bind_2_3['Y'].tolist(),all_test_bind_2_3['pred'].tolist()))"
   ]
  },
  {
   "cell_type": "markdown",
   "metadata": {},
   "source": [
    "# Plot"
   ]
  },
  {
   "cell_type": "code",
   "execution_count": 65,
   "metadata": {
    "scrolled": false
   },
   "outputs": [
    {
     "name": "stderr",
     "output_type": "stream",
     "text": [
      "C:\\Users\\Ayan\\anaconda3\\lib\\site-packages\\seaborn\\categorical.py:3717: UserWarning: The `factorplot` function has been renamed to `catplot`. The original name will be removed in a future release. Please update your code. Note that the default `kind` in `factorplot` (`'point'`) has changed `'strip'` in `catplot`.\n",
      "  warnings.warn(msg)\n"
     ]
    },
    {
     "data": {
      "text/plain": [
       "<seaborn.axisgrid.FacetGrid at 0x1f32b254948>"
      ]
     },
     "execution_count": 65,
     "metadata": {},
     "output_type": "execute_result"
    },
    {
     "data": {
      "image/png": "[encoded data removed]",
      "text/plain": [
       "<Figure size 431.75x360 with 1 Axes>"
      ]
     },
     "metadata": {
      "needs_background": "light"
     },
     "output_type": "display_data"
    }
   ],
   "source": [
    "df = pd.DataFrame()\n",
    "df['bin'] = ['Low degree'] * 2 + ['High Degree'] * 2 \n",
    "df['metric'] = ['AUROC', 'AUPRC'] * 2\n",
    "df['values'] = [0.5, 0.009, 0.85, 0.84] \n",
    "#figure(figsize=(8, 8),dpi=300)\n",
    "sns.factorplot(x='bin', y='values', hue='metric', data=df, kind='bar')\n",
    "#figure.savefig('bin_perf.png' % ind, dpi=300)"
   ]
  },
  {
   "cell_type": "code",
   "execution_count": null,
   "metadata": {},
   "outputs": [],
   "source": []
  }
 ],
 "metadata": {
  "kernelspec": {
   "display_name": "Python 3 (ipykernel)",
   "language": "python",
   "name": "python3"
  },
  "language_info": {
   "codemirror_mode": {
    "name": "ipython",
    "version": 3
   },
   "file_extension": ".py",
   "mimetype": "text/x-python",
   "name": "python",
   "nbconvert_exporter": "python",
   "pygments_lexer": "ipython3",
   "version": "3.10.9"
  }
 },
 "nbformat": 4,
 "nbformat_minor": 4
}
