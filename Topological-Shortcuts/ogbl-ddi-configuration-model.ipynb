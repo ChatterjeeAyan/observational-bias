{
 "cells": [
  {
   "cell_type": "markdown",
   "metadata": {},
   "source": [
    "# Imports"
   ]
  },
  {
   "cell_type": "code",
   "execution_count": 1,
   "metadata": {},
   "outputs": [],
   "source": [
    "import matplotlib.pyplot as plt\n",
    "from tqdm import tqdm\n",
    "import pandas as pd\n",
    "from matplotlib.pyplot import figure\n",
    "import numpy as np\n",
    "import networkx as nx\n",
    "from networkx.algorithms import bipartite\n",
    "from sklearn.metrics import confusion_matrix, f1_score, classification_report\n",
    "from sklearn.metrics import roc_curve, roc_auc_score, precision_recall_curve, average_precision_score\n",
    "from sklearn.metrics import confusion_matrix, f1_score, classification_report\n",
    "from scipy import stats\n",
    "import seaborn as sns\n",
    "import powerlaw\n",
    "from scipy.stats import poisson\n",
    "from scipy.stats import norm  \n",
    "from sklearn.model_selection import train_test_split\n",
    "import math\n",
    "from random import shuffle\n",
    "from scipy.stats import norm\n",
    "from statsmodels.distributions.empirical_distribution import ECDF\n",
    "#from fa2 import ForceAtlas2\n",
    "from scipy.spatial.distance import squareform\n",
    "import joblib\n",
    "import matplotlib\n",
    "from sklearn.utils import column_or_1d\n",
    "from sklearn.utils.multiclass import type_of_target\n",
    "matplotlib.rcParams['font.serif'] = 'Times New Roman'\n",
    "matplotlib.rcParams['font.family'] = \"serif\"\n",
    "matplotlib.rcParams['font.size'] = 15\n",
    "from maximumentropymodels import *\n",
    "import argparse\n",
    "import torch\n",
    "import torch.nn.functional as F\n",
    "from torch.utils.data import DataLoader\n",
    "from ogb.linkproppred import PygLinkPropPredDataset, Evaluator\n",
    "from logger import Logger\n",
    "import numpy as np\n",
    "import pandas as pd\n",
    "import networkx as nx\n",
    "from tqdm import tqdm\n",
    "from scipy.spatial.distance import squareform\n",
    "from matplotlib.pyplot import figure\n",
    "import seaborn as sns\n",
    "from sklearn.model_selection import train_test_split\n",
    "from scipy import sparse\n",
    "import dask.array as da\n",
    "from sklearn import metrics\n",
    "from sklearn.metrics import average_precision_score"
   ]
  },
  {
   "cell_type": "markdown",
   "metadata": {},
   "source": [
    "# Loading ogbl-ddi"
   ]
  },
  {
   "cell_type": "code",
   "execution_count": 2,
   "metadata": {},
   "outputs": [],
   "source": [
    "dataset = PygLinkPropPredDataset(name='ogbl-ddi')\n",
    "split_edge = dataset.get_edge_split()\n",
    "data = dataset[0]\n",
    "\n",
    "#device = f'cuda:{args.device}' if torch.cuda.is_available() else 'cpu'\n",
    "#device = torch.device(device)\n",
    "device = 'cpu'\n",
    "\n",
    "x = data.x\n",
    "pos_train_edge = split_edge['train']['edge'].to(device)\n",
    "pos_valid_edge = split_edge['valid']['edge'].to(device)\n",
    "neg_valid_edge = split_edge['valid']['edge_neg'].to(device)\n",
    "pos_test_edge = split_edge['test']['edge'].to(device)\n",
    "neg_test_edge = split_edge['test']['edge_neg'].to(device)\n",
    "\n",
    "pos_train_edge_df = pd.DataFrame(pos_train_edge.numpy())\n",
    "pos_valid_edge_df = pd.DataFrame(pos_valid_edge.numpy())\n",
    "neg_valid_edge_df = pd.DataFrame(neg_valid_edge.numpy())\n",
    "pos_test_edge_df = pd.DataFrame(pos_test_edge.numpy())\n",
    "neg_test_edge_df = pd.DataFrame(neg_test_edge.numpy())\n",
    "\n",
    "G_ddi = nx.from_pandas_edgelist(pos_train_edge_df, 0, 1, create_using=nx.Graph()) ## Training graph"
   ]
  },
  {
   "cell_type": "markdown",
   "metadata": {},
   "source": [
    "# Configuration Models - Traditional and Duplex"
   ]
  },
  {
   "cell_type": "code",
   "execution_count": 3,
   "metadata": {},
   "outputs": [],
   "source": [
    "def test_configuration_model(G, pos_test_edge_df, neg_test_edge_df, precision=10**(-5), loops=500, ts=0.3, typeneg='real'):\n",
    "\n",
    "    netpos=nx.to_pandas_edgelist(G, source='node_1', target='node_2')\n",
    "    netpos['binary_label']=[1 for c in range(netpos.shape[0])]\n",
    "    print('density ', 2*len(G.edges)/N/(N-1)) \n",
    "    print('Positive Edgelist ', netpos.shape[0])\n",
    "    Gc=nx.complement(G)\n",
    "    print('Total Neg Edgelist ', len(Gc.edges))\n",
    "    print('density ', 2*len(Gc.edges)/N/(N-1)) \n",
    "    \n",
    "    if typeneg=='real':\n",
    "        netneg=nx.to_pandas_edgelist(Gc, source='node_1', target='node_2')\n",
    "    elif typeneg=='equal':\n",
    "        netneg=nx.to_pandas_edgelist(Gc, source='node_1', target='node_2').sample(n=len(G.edges))\n",
    "    else:\n",
    "        return\n",
    "    \n",
    "    netneg['binary_label']=[0 for c in range(netneg.shape[0])]\n",
    "    print('Negative Edgelist ', netneg.shape[0])\n",
    "    network_data=pd.concat([netpos, netneg])\n",
    "    network_data.reset_index(inplace=True)\n",
    "    \n",
    "    train = network_data.copy()\n",
    "\n",
    "    ## Create train-test split\n",
    "    test = pd.concat([pos_test_edge_df,neg_test_edge_df]).rename(columns={0:'node_1', 1:'node_2'})\n",
    "    test['binary_label'] = [1] * len(pos_test_edge_df) + [0] * len(neg_test_edge_df) \n",
    "    \n",
    "    #train, test = train_test_split(network_data, test_size=ts)\n",
    "\n",
    "    train_nodes = list(set(train['node_1']).union(set(train['node_2'])))\n",
    "    train_nodes_index_map = dict(zip(train_nodes, range(len(train_nodes)))) ## Mapping between training nodes and indices for selecting from summat matrices\n",
    "\n",
    "    degree_train_1_0 = []\n",
    "    degree_train_0_1 = []\n",
    "\n",
    "    for node in tqdm(train_nodes):\n",
    "        sub_df = train[(train['node_1'] == node) | (train['node_2'] == node)]\n",
    "        degree_train_1_0.append(len(sub_df[sub_df['binary_label'] == 1]))\n",
    "        degree_train_0_1.append(len(sub_df[sub_df['binary_label'] == 0]))\n",
    "    \n",
    "    \n",
    "    degree_train_1_0=np.array([degree_train_1_0]).T\n",
    "    degree_train_0_1=np.array([degree_train_0_1]).T\n",
    "\n",
    "    sum_degree =  degree_train_1_0+degree_train_0_1\n",
    "    print('Number of nodes with no positive annotation: ', sum(degree_train_1_0==0))\n",
    "    print('Number of nodes with no negative annotation: ', sum(degree_train_0_1==0))\n",
    "    print('Number of nodes with no pos or neg annotation: ', sum(sum_degree ==0))\n",
    "\n",
    "    # standard configuration model\n",
    "    (pconfstandard, kcal_confstandard)=configuration_model(degree_train_1_0, precision=precision, loops=loops)\n",
    "    # configuration with positive and negative links\n",
    "    (pconf01, k01cal, pconf10, k10cal, pconditional)=multidegree_entropy_pos_neg(degree_train_0_1, degree_train_1_0, precision=precision, loops=loops)\n",
    "\n",
    "    test_probabilty_predicted = []\n",
    "    test_probabilty_predicted_conditioned = []\n",
    "    test_type_list = []\n",
    "\n",
    "    ## Average conditional probability\n",
    "    average_conditional_probability = sum(degree_train_1_0)/(sum(degree_train_1_0)+sum(degree_train_0_1))\n",
    "\n",
    "    for index, row in tqdm(test.iterrows()):      \n",
    "    \n",
    "        if row['node_1'] in train_nodes and row['node_2'] in train_nodes:\n",
    "            mapped_index_in_matrix_node_1 = train_nodes_index_map[row['node_1']]\n",
    "            mapped_index_in_matrix_node_2 = train_nodes_index_map[row['node_2']]\n",
    "\n",
    "            test_probabilty_predicted.append(pconfstandard[mapped_index_in_matrix_node_1, mapped_index_in_matrix_node_2])\n",
    "            test_probabilty_predicted_conditioned.append(pconditional[mapped_index_in_matrix_node_1, mapped_index_in_matrix_node_2])\n",
    "            test_type_list.append('Transductive')\n",
    "        \n",
    "        elif row['node_1'] in train_nodes and row['node_2'] not in train_nodes:\n",
    "            mapped_index_in_matrix_node_1 = train_nodes_index_map[row['node_1']]\n",
    "\n",
    "            test_probabilty_predicted.append(degree_train_1_0[mapped_index_in_matrix_node_1]/len(degree_train_1_0))\n",
    "            ## k_+ / (k_+ + k_-)\n",
    "            test_probabilty_predicted_conditioned.append(degree_train_1_0[mapped_index_in_matrix_node_1] / (degree_train_0_1[mapped_index_in_matrix_node_1] + degree_train_1_0[mapped_index_in_matrix_node_1] ))\n",
    "            test_type_list.append('Semi-inductive')\n",
    "        \n",
    "        elif row['node_1'] not in train_nodes and row['node_2'] in train_nodes:\n",
    "            mapped_index_in_matrix_node_2 = train_nodes_index_map[row['node_2']]\n",
    "\n",
    "            test_probabilty_predicted.append(degree_train_1_0[mapped_index_in_matrix_node_2]/len(degree_train_1_0))\n",
    "            test_probabilty_predicted_conditioned.append(degree_train_1_0[mapped_index_in_matrix_node_2] / (degree_train_0_1[mapped_index_in_matrix_node_2] + degree_train_1_0[mapped_index_in_matrix_node_2] ))\n",
    "            test_type_list.append('Semi-inductive')\n",
    "        \n",
    "        else:\n",
    "            test_probabilty_predicted.append(np.mean(degree_train_1_0)/(len(degree_train_1_0)-1))\n",
    "            test_probabilty_predicted_conditioned.append(average_conditional_probability)\n",
    "            test_type_list.append('Inductive')\n",
    "        \n",
    "    test_predictions = test.copy()\n",
    "    test_predictions['predicted_probability'] = test_probabilty_predicted\n",
    "    test_predictions['predicted_probability_duplex'] = test_probabilty_predicted_conditioned\n",
    "    test_predictions['test_type'] = test_type_list\n",
    "\n",
    "    return (test_predictions, degree_train_0_1, degree_train_1_0, pconfstandard, kcal_confstandard, pconf01, k01cal, pconf10, k10cal, pconditional)"
   ]
  },
  {
   "cell_type": "markdown",
   "metadata": {},
   "source": [
    "# OGB Evaluation Metrics"
   ]
  },
  {
   "cell_type": "code",
   "execution_count": 4,
   "metadata": {},
   "outputs": [],
   "source": [
    "def precision_at_k(y_true, y_score, k, pos_label=1):    \n",
    "    y_true_type = type_of_target(y_true)\n",
    "    if not (y_true_type == \"binary\"):\n",
    "        raise ValueError(\"y_true must be a binary column.\")\n",
    "    \n",
    "    # Makes this compatible with various array types\n",
    "    y_true_arr = column_or_1d(y_true)\n",
    "    y_score_arr = column_or_1d(y_score)\n",
    "    \n",
    "    y_true_arr = y_true_arr == pos_label\n",
    "    \n",
    "    desc_sort_order = np.argsort(y_score_arr)[::-1]\n",
    "    y_true_sorted = y_true_arr[desc_sort_order]\n",
    "    y_score_sorted = y_score_arr[desc_sort_order]\n",
    "    \n",
    "    true_positives = y_true_sorted[:k].sum()\n",
    "    \n",
    "    print('Baseline ', sum(y_true)/len(y_true))\n",
    "    \n",
    "    return true_positives / k"
   ]
  },
  {
   "cell_type": "code",
   "execution_count": 5,
   "metadata": {},
   "outputs": [],
   "source": [
    "def recall_at_k(y_true, y_score, k, pos_label=1):\n",
    "    from sklearn.utils import column_or_1d\n",
    "    from sklearn.utils.multiclass import type_of_target\n",
    "    \n",
    "    y_true_type = type_of_target(y_true)\n",
    "    if not (y_true_type == \"binary\"):\n",
    "        raise ValueError(\"y_true must be a binary column.\")\n",
    "    \n",
    "    # Makes this compatible with various array types\n",
    "    y_true_arr = column_or_1d(y_true)\n",
    "    y_score_arr = column_or_1d(y_score)\n",
    "    \n",
    "    y_true_arr = y_true_arr == pos_label\n",
    "    \n",
    "    desc_sort_order = np.argsort(y_score_arr)[::-1]\n",
    "    y_true_sorted = y_true_arr[desc_sort_order]\n",
    "    y_score_sorted = y_score_arr[desc_sort_order]\n",
    "    \n",
    "    true_positives = y_true_sorted[:k].sum()\n",
    "    \n",
    "    print('Baseline ', k/len(y_true))\n",
    "    \n",
    "    return true_positives / y_true_arr.sum()"
   ]
  },
  {
   "cell_type": "code",
   "execution_count": 6,
   "metadata": {},
   "outputs": [],
   "source": [
    "def summary_performance(test_p, typetest='Transductive', typepred='predicted_probability', k=100):\n",
    "    selt=test_p[test_p['test_type'] == typetest]\n",
    "    print(typetest+' performance:')\n",
    "    print('AUC: ', roc_auc_score(selt['binary_label'].tolist(), selt[typepred].tolist()))\n",
    "    print('AUP: ', average_precision_score(selt['binary_label'].tolist(), selt[typepred].tolist()))\n",
    "    print('Precision at '+str(k)+' ', precision_at_k(selt['binary_label'].tolist(),selt[typepred].tolist(), k))\n",
    "    print('Recall at '+str(k)+' ', recall_at_k(selt['binary_label'].tolist(),selt[typepred].tolist(), k))"
   ]
  },
  {
   "cell_type": "markdown",
   "metadata": {},
   "source": [
    "# Network Stats"
   ]
  },
  {
   "cell_type": "code",
   "execution_count": 7,
   "metadata": {},
   "outputs": [],
   "source": [
    "N=len(G_ddi.nodes())"
   ]
  },
  {
   "cell_type": "code",
   "execution_count": 8,
   "metadata": {},
   "outputs": [
    {
     "name": "stdout",
     "output_type": "stream",
     "text": [
      "0.11733337464515507\n"
     ]
    }
   ],
   "source": [
    "#denisty\n",
    "density=2*len(G_ddi.edges)/N/(N-1)\n",
    "perc_split_train=0.7\n",
    "print(density)"
   ]
  },
  {
   "cell_type": "markdown",
   "metadata": {},
   "source": [
    "# Sampling all non-edges during Training"
   ]
  },
  {
   "cell_type": "code",
   "execution_count": 9,
   "metadata": {
    "scrolled": true
   },
   "outputs": [
    {
     "name": "stdout",
     "output_type": "stream",
     "text": [
      "density  0.11733337464515507\n",
      "Positive Edgelist  1067911\n",
      "Total Neg Edgelist  8033600\n",
      "density  0.882666625354845\n",
      "Negative Edgelist  8033600\n"
     ]
    },
    {
     "name": "stderr",
     "output_type": "stream",
     "text": [
      "100%|██████████| 4267/4267 [02:42<00:00, 26.20it/s]\n",
      "  0%|          | 0/500 [00:00<?, ?it/s]"
     ]
    },
    {
     "name": "stdout",
     "output_type": "stream",
     "text": [
      "Number of nodes with no positive annotation:  [0]\n",
      "Number of nodes with no negative annotation:  [0]\n",
      "Number of nodes with no pos or neg annotation:  [0]\n"
     ]
    },
    {
     "name": "stderr",
     "output_type": "stream",
     "text": [
      "  6%|▌         | 30/500 [00:08<02:10,  3.61it/s]\n"
     ]
    },
    {
     "name": "stdout",
     "output_type": "stream",
     "text": [
      "Loops  31\n",
      "Error margin:  [8.41041271e-06]\n"
     ]
    },
    {
     "name": "stderr",
     "output_type": "stream",
     "text": [
      "100%|██████████| 500/500 [06:21<00:00,  1.31it/s]\n"
     ]
    },
    {
     "name": "stdout",
     "output_type": "stream",
     "text": [
      "Loops  500\n",
      "Error margin:  [0.]\n"
     ]
    },
    {
     "name": "stderr",
     "output_type": "stream",
     "text": [
      "229088it [01:15, 3050.43it/s]\n"
     ]
    }
   ],
   "source": [
    "(test_predictions, degree_train_0_1, degree_train_1_0, pconfstandard, kcal_confstandard, pconf01, k01cal, pconf10, k10cal, pconditional)=test_configuration_model(G_ddi, pos_test_edge_df, neg_test_edge_df)"
   ]
  },
  {
   "cell_type": "code",
   "execution_count": 10,
   "metadata": {},
   "outputs": [
    {
     "data": {
      "text/plain": [
       "0.5826974786981421"
      ]
     },
     "execution_count": 10,
     "metadata": {},
     "output_type": "execute_result"
    }
   ],
   "source": [
    "# desity of real links in the test\n",
    "test_predictions['binary_label'].sum()/test_predictions.shape[0]"
   ]
  },
  {
   "cell_type": "code",
   "execution_count": 11,
   "metadata": {},
   "outputs": [
    {
     "name": "stderr",
     "output_type": "stream",
     "text": [
      "findfont: Font family ['serif'] not found. Falling back to DejaVu Sans.\n"
     ]
    },
    {
     "data": {
      "text/plain": [
       "<seaborn.axisgrid.FacetGrid at 0x2b03a5513b50>"
      ]
     },
     "execution_count": 11,
     "metadata": {},
     "output_type": "execute_result"
    },
    {
     "data": {
      "image/png": "[encoded data removed]",
      "text/plain": [
       "<Figure size 360x360 with 1 Axes>"
      ]
     },
     "metadata": {
      "needs_background": "light"
     },
     "output_type": "display_data"
    },
    {
     "data": {
      "image/png": "[encoded data removed]",
      "text/plain": [
       "<Figure size 360x360 with 1 Axes>"
      ]
     },
     "metadata": {
      "needs_background": "light"
     },
     "output_type": "display_data"
    }
   ],
   "source": [
    "sns.displot(test_predictions['predicted_probability'])\n",
    "sns.displot(test_predictions['predicted_probability_duplex'])"
   ]
  },
  {
   "cell_type": "code",
   "execution_count": 12,
   "metadata": {},
   "outputs": [
    {
     "data": {
      "text/plain": [
       "0.08213336225160854"
      ]
     },
     "execution_count": 12,
     "metadata": {},
     "output_type": "execute_result"
    }
   ],
   "source": [
    "#expected probability for the standard configuration model\n",
    "density*perc_split_train"
   ]
  },
  {
   "cell_type": "code",
   "execution_count": 13,
   "metadata": {},
   "outputs": [
    {
     "name": "stdout",
     "output_type": "stream",
     "text": [
      "Transductive performance:\n",
      "AUC:  0.8777195928991451\n",
      "AUP:  0.9011274790908715\n",
      "Baseline  0.5826974786981421\n",
      "Precision at 1000  0.999\n",
      "Baseline  0.00436513479536248\n",
      "Recall at 1000  0.007483762707039532\n"
     ]
    }
   ],
   "source": [
    "summary_performance(test_predictions, typepred='predicted_probability', k=1000)"
   ]
  },
  {
   "cell_type": "code",
   "execution_count": 14,
   "metadata": {},
   "outputs": [
    {
     "name": "stdout",
     "output_type": "stream",
     "text": [
      "Transductive performance:\n",
      "AUC:  0.8777205834241055\n",
      "AUP:  0.9011282450802832\n",
      "Baseline  0.5826974786981421\n",
      "Precision at 1000  0.999\n",
      "Baseline  0.00436513479536248\n",
      "Recall at 1000  0.007483762707039532\n"
     ]
    }
   ],
   "source": [
    "summary_performance(test_predictions, typepred='predicted_probability_duplex',k=1000)"
   ]
  },
  {
   "cell_type": "code",
   "execution_count": 15,
   "metadata": {},
   "outputs": [
    {
     "name": "stdout",
     "output_type": "stream",
     "text": [
      "Transductive performance:\n",
      "AUC:  0.8777195928991451\n",
      "AUP:  0.9011274790908715\n",
      "Baseline  0.5826974786981421\n",
      "Precision at 20  1.0\n",
      "Baseline  8.730269590724962e-05\n",
      "Recall at 20  0.00014982507922001065\n"
     ]
    }
   ],
   "source": [
    "summary_performance(test_predictions, typepred='predicted_probability', k=20)"
   ]
  },
  {
   "cell_type": "code",
   "execution_count": 16,
   "metadata": {},
   "outputs": [
    {
     "name": "stdout",
     "output_type": "stream",
     "text": [
      "Transductive performance:\n",
      "AUC:  0.8777205834241055\n",
      "AUP:  0.9011282450802832\n",
      "Baseline  0.5826974786981421\n",
      "Precision at 20  1.0\n",
      "Baseline  8.730269590724962e-05\n",
      "Recall at 20  0.00014982507922001065\n"
     ]
    }
   ],
   "source": [
    "summary_performance(test_predictions, typepred='predicted_probability_duplex', k=20)"
   ]
  },
  {
   "cell_type": "markdown",
   "metadata": {},
   "source": [
    "# Equal sampling of edges and non-edges during training"
   ]
  },
  {
   "cell_type": "code",
   "execution_count": 17,
   "metadata": {},
   "outputs": [
    {
     "name": "stdout",
     "output_type": "stream",
     "text": [
      "density  0.11733337464515507\n",
      "Positive Edgelist  1067911\n",
      "Total Neg Edgelist  8033600\n",
      "density  0.882666625354845\n",
      "Negative Edgelist  1067911\n"
     ]
    },
    {
     "name": "stderr",
     "output_type": "stream",
     "text": [
      "100%|██████████| 4267/4267 [00:28<00:00, 149.83it/s]\n",
      "  0%|          | 0/500 [00:00<?, ?it/s]"
     ]
    },
    {
     "name": "stdout",
     "output_type": "stream",
     "text": [
      "Number of nodes with no positive annotation:  [0]\n",
      "Number of nodes with no negative annotation:  [0]\n",
      "Number of nodes with no pos or neg annotation:  [0]\n"
     ]
    },
    {
     "name": "stderr",
     "output_type": "stream",
     "text": [
      "  6%|▌         | 30/500 [00:08<02:09,  3.63it/s]\n"
     ]
    },
    {
     "name": "stdout",
     "output_type": "stream",
     "text": [
      "Loops  31\n",
      "Error margin:  [7.95407075e-06]\n"
     ]
    },
    {
     "name": "stderr",
     "output_type": "stream",
     "text": [
      "  6%|▋         | 32/500 [00:25<06:07,  1.27it/s]\n"
     ]
    },
    {
     "name": "stdout",
     "output_type": "stream",
     "text": [
      "Loops  33\n",
      "Error margin:  [7.63732e-06]\n"
     ]
    },
    {
     "name": "stderr",
     "output_type": "stream",
     "text": [
      "229088it [01:14, 3057.00it/s]\n"
     ]
    }
   ],
   "source": [
    "(test_predictions, degree_train_0_1, degree_train_1_0, pconfstandard, kcal_confstandard, pconf01, k01cal, pconf10, k10cal, pconditional)=test_configuration_model(G_ddi, pos_test_edge_df, neg_test_edge_df, typeneg='equal')\n"
   ]
  },
  {
   "cell_type": "code",
   "execution_count": 18,
   "metadata": {},
   "outputs": [
    {
     "data": {
      "text/plain": [
       "0.5826974786981421"
      ]
     },
     "execution_count": 18,
     "metadata": {},
     "output_type": "execute_result"
    }
   ],
   "source": [
    "# desity of real links in the test\n",
    "test_predictions['binary_label'].sum()/test_predictions.shape[0]"
   ]
  },
  {
   "cell_type": "code",
   "execution_count": 19,
   "metadata": {},
   "outputs": [
    {
     "data": {
      "text/plain": [
       "<seaborn.axisgrid.FacetGrid at 0x2b03311007f0>"
      ]
     },
     "execution_count": 19,
     "metadata": {},
     "output_type": "execute_result"
    },
    {
     "data": {
      "image/png": "[encoded data removed]",
      "text/plain": [
       "<Figure size 360x360 with 1 Axes>"
      ]
     },
     "metadata": {
      "needs_background": "light"
     },
     "output_type": "display_data"
    },
    {
     "data": {
      "image/png": "[encoded data removed]",
      "text/plain": [
       "<Figure size 360x360 with 1 Axes>"
      ]
     },
     "metadata": {
      "needs_background": "light"
     },
     "output_type": "display_data"
    }
   ],
   "source": [
    "sns.displot(test_predictions['predicted_probability'])\n",
    "sns.displot(test_predictions['predicted_probability_duplex'])"
   ]
  },
  {
   "cell_type": "code",
   "execution_count": 20,
   "metadata": {},
   "outputs": [
    {
     "name": "stdout",
     "output_type": "stream",
     "text": [
      "Transductive performance:\n",
      "AUC:  0.8777195961511356\n",
      "AUP:  0.9011275080171713\n",
      "Baseline  0.5826974786981421\n",
      "Precision at 1000  0.999\n",
      "Baseline  0.00436513479536248\n",
      "Recall at 1000  0.007483762707039532\n"
     ]
    }
   ],
   "source": [
    "summary_performance(test_predictions, typepred='predicted_probability', k=1000)"
   ]
  },
  {
   "cell_type": "code",
   "execution_count": 21,
   "metadata": {},
   "outputs": [
    {
     "name": "stdout",
     "output_type": "stream",
     "text": [
      "Transductive performance:\n",
      "AUC:  0.8773240717100605\n",
      "AUP:  0.900585653007056\n",
      "Baseline  0.5826974786981421\n",
      "Precision at 1000  0.999\n",
      "Baseline  0.00436513479536248\n",
      "Recall at 1000  0.007483762707039532\n"
     ]
    }
   ],
   "source": [
    "summary_performance(test_predictions, typepred='predicted_probability_duplex',k=1000)"
   ]
  },
  {
   "cell_type": "code",
   "execution_count": 22,
   "metadata": {},
   "outputs": [
    {
     "name": "stdout",
     "output_type": "stream",
     "text": [
      "Transductive performance:\n",
      "AUC:  0.8777195961511356\n",
      "AUP:  0.9011275080171713\n",
      "Baseline  0.5826974786981421\n",
      "Precision at 20  1.0\n",
      "Baseline  8.730269590724962e-05\n",
      "Recall at 20  0.00014982507922001065\n"
     ]
    }
   ],
   "source": [
    "summary_performance(test_predictions, typepred='predicted_probability', k=20)"
   ]
  },
  {
   "cell_type": "code",
   "execution_count": 24,
   "metadata": {},
   "outputs": [
    {
     "name": "stdout",
     "output_type": "stream",
     "text": [
      "Transductive performance:\n",
      "AUC:  0.8773240717100605\n",
      "AUP:  0.900585653007056\n",
      "Baseline  0.5826974786981421\n",
      "Precision at 20  1.0\n",
      "Baseline  8.730269590724962e-05\n",
      "Recall at 20  0.00014982507922001065\n"
     ]
    }
   ],
   "source": [
    "summary_performance(test_predictions, typepred='predicted_probability_duplex',k=20)"
   ]
  },
  {
   "cell_type": "code",
   "execution_count": null,
   "metadata": {},
   "outputs": [],
   "source": []
  }
 ],
 "metadata": {
  "kernelspec": {
   "display_name": "Python 3",
   "language": "python",
   "name": "python3"
  },
  "language_info": {
   "codemirror_mode": {
    "name": "ipython",
    "version": 3
   },
   "file_extension": ".py",
   "mimetype": "text/x-python",
   "name": "python",
   "nbconvert_exporter": "python",
   "pygments_lexer": "ipython3",
   "version": "3.7.7"
  }
 },
 "nbformat": 4,
 "nbformat_minor": 4
}
