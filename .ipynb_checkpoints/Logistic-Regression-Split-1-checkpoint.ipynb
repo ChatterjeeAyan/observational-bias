{
 "cells": [
  {
   "cell_type": "code",
   "execution_count": 1,
   "id": "b023bba6",
   "metadata": {},
   "outputs": [],
   "source": [
    "import matplotlib.pyplot as plt\n",
    "from tqdm import tqdm\n",
    "import pandas as pd\n",
    "from matplotlib.pyplot import figure\n",
    "import numpy as np\n",
    "import networkx as nx\n",
    "from networkx.algorithms import bipartite\n",
    "from sklearn.metrics import confusion_matrix, f1_score, classification_report\n",
    "from sklearn.metrics import roc_curve, roc_auc_score, precision_recall_curve, average_precision_score\n",
    "from sklearn.metrics import confusion_matrix, f1_score, classification_report\n",
    "from scipy import stats\n",
    "import seaborn as sns\n",
    "from scipy.stats import poisson\n",
    "from scipy.stats import norm  \n",
    "from sklearn.model_selection import train_test_split\n",
    "import math\n",
    "from random import shuffle\n",
    "from scipy.stats import norm\n",
    "from scipy.spatial.distance import squareform\n",
    "import joblib\n",
    "import matplotlib\n",
    "from sklearn.utils import column_or_1d\n",
    "from sklearn.utils.multiclass import type_of_target\n",
    "import argparse\n",
    "from scipy.spatial.distance import squareform\n",
    "from matplotlib.pyplot import figure\n",
    "import seaborn as sns\n",
    "from sklearn.model_selection import train_test_split\n",
    "from scipy import sparse\n",
    "import dask.array as da\n",
    "from sklearn import metrics\n",
    "from sklearn.metrics import average_precision_score\n",
    "# logistic regression for feature importance\n",
    "from sklearn.datasets import make_classification\n",
    "from sklearn.linear_model import LogisticRegression\n",
    "from matplotlib import pyplot\n",
    "import os\n",
    "import os.path\n",
    "from scipy import linalg\n",
    "import scipy.sparse as sparse\n",
    "from scipy.sparse import csr_matrix\n",
    "from sklearn.metrics import roc_auc_score\n",
    "from sklearn.metrics import confusion_matrix\n",
    "from sklearn.model_selection import StratifiedKFold\n",
    "from sklearn.ensemble import RandomForestClassifier\n",
    "from sklearn.metrics import precision_recall_fscore_support\n",
    "import pickle\n",
    "from sklearn import metrics\n",
    "from sklearn.metrics import average_precision_score\n",
    "from sklearn.preprocessing import normalize\n",
    "from random import sample"
   ]
  },
  {
   "cell_type": "code",
   "execution_count": 2,
   "id": "f95df847",
   "metadata": {},
   "outputs": [],
   "source": [
    "def list_avg(l1,l2):\n",
    "    l3 = []\n",
    "    for j in range(len(l1)):\n",
    "        l3.append((l1[j]+l2[j])/2)\n",
    "    return l3"
   ]
  },
  {
   "cell_type": "markdown",
   "id": "6a02a1b3",
   "metadata": {},
   "source": [
    "## Load DDI Data"
   ]
  },
  {
   "cell_type": "code",
   "execution_count": 3,
   "id": "7723b5f8",
   "metadata": {},
   "outputs": [],
   "source": [
    "edges = pd.read_csv('edge.csv.gz', compression='gzip', header=0, sep=',', quotechar='\"', error_bad_lines=False, names=['node1','node2'])"
   ]
  },
  {
   "cell_type": "code",
   "execution_count": 4,
   "id": "fcb0a00f",
   "metadata": {},
   "outputs": [],
   "source": [
    "G_ddi = nx.from_edgelist(zip(edges['node1'],edges['node2']), create_using=nx.Graph())"
   ]
  },
  {
   "cell_type": "code",
   "execution_count": 5,
   "id": "3da324df",
   "metadata": {},
   "outputs": [],
   "source": [
    "train, test = train_test_split(edges, test_size=0.2)"
   ]
  },
  {
   "cell_type": "code",
   "execution_count": 6,
   "id": "75f21c26",
   "metadata": {},
   "outputs": [],
   "source": [
    "G_train = nx.from_edgelist(zip(train['node1'],train['node2']), create_using=nx.Graph())\n",
    "G_test = nx.from_edgelist(zip(test['node1'],test['node2']), create_using=nx.Graph())"
   ]
  },
  {
   "cell_type": "code",
   "execution_count": 7,
   "id": "61b22a99",
   "metadata": {},
   "outputs": [],
   "source": [
    "G_train_neg = nx.complement(G_train)\n",
    "G_test_neg = nx.complement(G_test)"
   ]
  },
  {
   "cell_type": "code",
   "execution_count": 8,
   "id": "c6493262",
   "metadata": {},
   "outputs": [],
   "source": [
    "negative_edges_train = sample(list(G_train_neg.edges()),len(train)) \n",
    "negative_edges_test = sample(list(G_test_neg.edges()),len(test)) "
   ]
  },
  {
   "cell_type": "code",
   "execution_count": 9,
   "id": "cb428979",
   "metadata": {
    "scrolled": true
   },
   "outputs": [],
   "source": [
    "negative_edges_train_df = pd.DataFrame()\n",
    "negative_edges_train_df['node1'] = [x[0] for x in negative_edges_train]\n",
    "negative_edges_train_df['node2'] = [x[1] for x in negative_edges_train]\n",
    "\n",
    "negative_edges_test_df = pd.DataFrame()\n",
    "negative_edges_test_df['node1'] = [x[0] for x in negative_edges_test]\n",
    "negative_edges_test_df['node2'] = [x[1] for x in negative_edges_test]"
   ]
  },
  {
   "cell_type": "code",
   "execution_count": 10,
   "id": "95a5b49b",
   "metadata": {},
   "outputs": [],
   "source": [
    "train_data = pd.concat([train,negative_edges_train_df])\n",
    "train_data['Y'] = [1] * len(train) + [0] * len(negative_edges_train_df)\n",
    "\n",
    "test_data = pd.concat([test,negative_edges_test_df])\n",
    "test_data['Y'] = [1] * len(test) + [0] * len(negative_edges_test_df)"
   ]
  },
  {
   "cell_type": "markdown",
   "id": "3c53318d",
   "metadata": {},
   "source": [
    "# Sense Features"
   ]
  },
  {
   "cell_type": "code",
   "execution_count": 11,
   "id": "8c020182",
   "metadata": {},
   "outputs": [],
   "source": [
    "degree_nodes = dict(G_train.degree())\n",
    "clustering_coeff = nx.clustering(G_train)\n",
    "triangle_nodes = dict(nx.triangles(G_train))\n",
    "nn_degree = nx.average_neighbor_degree(G_train)\n",
    "betweenness_cetrality = dict(nx.betweenness_centrality(G_train))"
   ]
  },
  {
   "cell_type": "code",
   "execution_count": 12,
   "id": "730fe1ad-e4a3-4ab1-b489-eab0b2204299",
   "metadata": {},
   "outputs": [],
   "source": [
    "#with open('degree_nodes_split_1.pickle', 'wb') as handle:\n",
    "#    pickle.dump(degree_nodes, handle, protocol=pickle.HIGHEST_PROTOCOL)\n",
    "    \n",
    "#with open('clustering_coeff_split_1.pickle', 'wb') as handle:\n",
    "#    pickle.dump(clustering_coeff, handle, protocol=pickle.HIGHEST_PROTOCOL)\n",
    "    \n",
    "#with open('triangle_nodes_split_1.pickle', 'wb') as handle:\n",
    "#    pickle.dump(triangle_nodes, handle, protocol=pickle.HIGHEST_PROTOCOL)\n",
    "    \n",
    "#with open('nn_degree_split_1.pickle', 'wb') as handle:\n",
    "#    pickle.dump(nn_degree, handle, protocol=pickle.HIGHEST_PROTOCOL)\n",
    "    \n",
    "#with open('betweenness_cetrality_split_1.pickle', 'wb') as handle:\n",
    "#    pickle.dump(betweenness_cetrality, handle, protocol=pickle.HIGHEST_PROTOCOL)"
   ]
  },
  {
   "cell_type": "code",
   "execution_count": 3,
   "id": "dbda488e",
   "metadata": {},
   "outputs": [],
   "source": [
    "with open('degree_nodes_split_1.pickle', 'rb') as handle:\n",
    "    degree_nodes = pickle.load(handle)\n",
    "    \n",
    "with open('clustering_coeff_split_1.pickle', 'rb') as handle:\n",
    "    clustering_coeff = pickle.load(handle)\n",
    "    \n",
    "with open('triangle_nodes_split_1.pickle', 'rb') as handle:\n",
    "    triangle_nodes = pickle.load(handle)\n",
    "    \n",
    "with open('nn_degree_split_1.pickle', 'rb') as handle:\n",
    "    nn_degree = pickle.load(handle)\n",
    "    \n",
    "with open('betweenness_cetrality_split_1.pickle', 'rb') as handle:\n",
    "    betweenness_cetrality = pickle.load(handle)"
   ]
  },
  {
   "cell_type": "code",
   "execution_count": 13,
   "id": "bc0949d5-2667-49f3-822e-d05563344bbf",
   "metadata": {},
   "outputs": [],
   "source": [
    "#train_data.to_csv('train_split_1.csv')\n",
    "#test_data.to_csv('test_split_1.csv')"
   ]
  },
  {
   "cell_type": "code",
   "execution_count": 4,
   "id": "694f6a09",
   "metadata": {},
   "outputs": [],
   "source": [
    "train_data = pd.read_csv('train_split_1.csv')\n",
    "test_data = pd.read_csv('test_split_1.csv')"
   ]
  },
  {
   "cell_type": "code",
   "execution_count": 10,
   "id": "47dd60ad",
   "metadata": {},
   "outputs": [],
   "source": [
    "G_train = nx.from_edgelist(zip(train_data[train_data['Y']==1]['node1'],train_data[train_data['Y']==1]['node2']), create_using=nx.Graph())\n",
    "G_test = nx.from_edgelist(zip(test_data[test_data['Y']==1]['node1'],test_data[test_data['Y']==1]['node2']), create_using=nx.Graph())"
   ]
  },
  {
   "cell_type": "code",
   "execution_count": 57,
   "id": "8acfb873",
   "metadata": {
    "scrolled": true
   },
   "outputs": [
    {
     "name": "stderr",
     "output_type": "stream",
     "text": [
      "100%|███████████████████████████████████| 4253/4253 [00:00<00:00, 212129.27it/s]\n"
     ]
    }
   ],
   "source": [
    "node_feature_dict_bc = dict()\n",
    "node_feature_dict_bc_nn = dict()\n",
    "node_feature_dict_bc_nn_cc = dict()\n",
    "node_feature_dict_bc_nn_cc_tri = dict()\n",
    "node_feature_dict_bc_nn_cc_tri_deg = dict()\n",
    "\n",
    "for node in tqdm(list(G_train.nodes())):\n",
    "    node_feat_list_bc = []\n",
    "    node_feat_list_bc_nn = []\n",
    "    node_feat_list_bc_nn_cc = []\n",
    "    node_feat_list_bc_nn_cc_tri = []\n",
    "    node_feat_list_bc_nn_cc_tri_deg = []\n",
    "    \n",
    "    ## Log transformation applied\n",
    "    #node_feat_list_bc.append(np.log(betweenness_cetrality[node]))\n",
    "    #node_feat_list_bc_tri.append(np.log(betweenness_cetrality[node]))\n",
    "    #node_feat_list_bc_tri_cc.append(np.log(betweenness_cetrality[node]))\n",
    "    #node_feat_list_bc_tri_cc_nn.append(np.log(betweenness_cetrality[node]))\n",
    "    #node_feat_list_bc_tri_cc_nn_deg.append(np.log(betweenness_cetrality[node]))\n",
    "    \n",
    "    #node_feat_list_bc_tri.append(np.log(triangle_nodes[node]))\n",
    "    #node_feat_list_bc_tri_cc.append(np.log(triangle_nodes[node]))\n",
    "    #node_feat_list_bc_tri_cc_nn.append(np.log(triangle_nodes[node]))\n",
    "    #node_feat_list_bc_tri_cc_nn_deg.append(np.log(triangle_nodes[node]))\n",
    "    \n",
    "    #node_feat_list_bc_tri_cc.append(np.log(clustering_coeff[node]))\n",
    "    #node_feat_list_bc_tri_cc_nn.append(np.log(clustering_coeff[node]))\n",
    "    #node_feat_list_bc_tri_cc_nn_deg.append(np.log(clustering_coeff[node]))\n",
    "    \n",
    "    #node_feat_list_bc_tri_cc_nn.append(np.log(nn_degree[node]))\n",
    "    #node_feat_list_bc_tri_cc_nn_deg.append(np.log(nn_degree[node]))\n",
    "    \n",
    "    #node_feat_list_bc_tri_cc_nn_deg.append(np.log(degree_nodes[node]))\n",
    "    ###\n",
    "    \n",
    "    ## Without log transformation\n",
    "    node_feat_list_bc.append(betweenness_cetrality[node])\n",
    "    node_feat_list_bc_nn.append(betweenness_cetrality[node])\n",
    "    node_feat_list_bc_nn_cc.append(betweenness_cetrality[node])\n",
    "    node_feat_list_bc_nn_cc_tri.append(betweenness_cetrality[node])\n",
    "    node_feat_list_bc_nn_cc_tri_deg.append(betweenness_cetrality[node])\n",
    "    \n",
    "    node_feat_list_bc_nn.append(nn_degree[node])\n",
    "    node_feat_list_bc_nn_cc.append(nn_degree[node])\n",
    "    node_feat_list_bc_nn_cc_tri.append(nn_degree[node])\n",
    "    node_feat_list_bc_nn_cc_tri_deg.append(nn_degree[node])\n",
    "    \n",
    "    node_feat_list_bc_nn_cc.append(clustering_coeff[node])\n",
    "    node_feat_list_bc_nn_cc_tri.append(clustering_coeff[node])\n",
    "    node_feat_list_bc_nn_cc_tri_deg.append(clustering_coeff[node])\n",
    "\n",
    "    node_feat_list_bc_nn_cc_tri.append(triangle_nodes[node])\n",
    "    node_feat_list_bc_nn_cc_tri_deg.append(triangle_nodes[node])\n",
    "    \n",
    "    node_feat_list_bc_nn_cc_tri_deg.append(degree_nodes[node])\n",
    "    ####\n",
    "    \n",
    "    node_feature_dict_bc[node] = node_feat_list_bc\n",
    "    node_feature_dict_bc_nn[node] = node_feat_list_bc_nn\n",
    "    node_feature_dict_bc_nn_cc[node] = node_feat_list_bc_nn_cc\n",
    "    node_feature_dict_bc_nn_cc_tri[node] = node_feat_list_bc_nn_cc_tri\n",
    "    node_feature_dict_bc_nn_cc_tri_deg[node] = node_feat_list_bc_nn_cc_tri_deg"
   ]
  },
  {
   "cell_type": "code",
   "execution_count": 72,
   "id": "1ff7e293",
   "metadata": {
    "scrolled": true
   },
   "outputs": [
    {
     "name": "stderr",
     "output_type": "stream",
     "text": [
      "1708656it [03:32, 8052.68it/s]\n"
     ]
    }
   ],
   "source": [
    "train_data_feature_edge_list_bc = []\n",
    "train_data_feature_edge_list_bc_nn = []\n",
    "train_data_feature_edge_list_bc_nn_cc = []\n",
    "train_data_feature_edge_list_bc_nn_cc_tri = []\n",
    "train_data_feature_edge_list_bc_nn_cc_tri_deg = []\n",
    "\n",
    "for index, row in tqdm(train_data.iterrows()):\n",
    "    \n",
    "    train_data_feature_edge_list_bc.append(list_avg(node_feature_dict_bc[row['node1']],node_feature_dict_bc[row['node2']]))\n",
    "    train_data_feature_edge_list_bc_nn.append(list_avg(node_feature_dict_bc_nn[row['node1']],node_feature_dict_bc_nn[row['node2']]))\n",
    "    train_data_feature_edge_list_bc_nn_cc.append(list_avg(node_feature_dict_bc_nn_cc[row['node1']],node_feature_dict_bc_nn_cc[row['node2']]))\n",
    "    train_data_feature_edge_list_bc_nn_cc_tri.append(list_avg(node_feature_dict_bc_nn_cc_tri[row['node1']],node_feature_dict_bc_nn_cc_tri[row['node2']]))\n",
    "    train_data_feature_edge_list_bc_nn_cc_tri_deg.append(list_avg(node_feature_dict_bc_nn_cc_tri_deg[row['node1']],node_feature_dict_bc_nn_cc_tri_deg[row['node2']]))\n",
    "    "
   ]
  },
  {
   "cell_type": "code",
   "execution_count": 59,
   "id": "6b5ed6c4",
   "metadata": {},
   "outputs": [],
   "source": [
    "train_nodes = list(set(train_data['node1']).union(set(train_data['node2'])))\n",
    "test_transductive = test_data[test_data['node1'].isin(train_nodes) & test_data['node2'].isin(train_nodes)]"
   ]
  },
  {
   "cell_type": "code",
   "execution_count": 73,
   "id": "9b10666e",
   "metadata": {},
   "outputs": [
    {
     "name": "stderr",
     "output_type": "stream",
     "text": [
      "425660it [00:56, 7542.16it/s]\n"
     ]
    }
   ],
   "source": [
    "test_data_feature_edge_list_bc = []\n",
    "test_data_feature_edge_list_bc_nn = []\n",
    "test_data_feature_edge_list_bc_nn_cc = []\n",
    "test_data_feature_edge_list_bc_nn_cc_tri = []\n",
    "test_data_feature_edge_list_bc_nn_cc_tri_deg = []\n",
    "\n",
    "for index, row in tqdm(test_transductive.iterrows()):\n",
    "    \n",
    "    test_data_feature_edge_list_bc.append(list_avg(node_feature_dict_bc[row['node1']],node_feature_dict_bc[row['node2']]))\n",
    "    test_data_feature_edge_list_bc_nn.append(list_avg(node_feature_dict_bc_nn[row['node1']],node_feature_dict_bc_nn[row['node2']]))\n",
    "    test_data_feature_edge_list_bc_nn_cc.append(list_avg(node_feature_dict_bc_nn_cc[row['node1']],node_feature_dict_bc_nn_cc[row['node2']]))\n",
    "    test_data_feature_edge_list_bc_nn_cc_tri.append(list_avg(node_feature_dict_bc_nn_cc_tri[row['node1']],node_feature_dict_bc_nn_cc_tri[row['node2']]))\n",
    "    test_data_feature_edge_list_bc_nn_cc_tri_deg.append(list_avg(node_feature_dict_bc_nn_cc_tri_deg[row['node1']],node_feature_dict_bc_nn_cc_tri_deg[row['node2']]))\n",
    "    "
   ]
  },
  {
   "cell_type": "markdown",
   "id": "e70ca5cb",
   "metadata": {},
   "source": [
    "# Ablation Study"
   ]
  },
  {
   "cell_type": "markdown",
   "id": "de753f22",
   "metadata": {},
   "source": [
    "## BC "
   ]
  },
  {
   "cell_type": "code",
   "execution_count": 74,
   "id": "7e7aad52",
   "metadata": {
    "scrolled": true
   },
   "outputs": [
    {
     "data": {
      "text/plain": [
       "LogisticRegression()"
      ]
     },
     "execution_count": 74,
     "metadata": {},
     "output_type": "execute_result"
    }
   ],
   "source": [
    "X = np.array(train_data_feature_edge_list_bc)\n",
    "X[X == -np.inf] = 0\n",
    "X = (X - X.mean(axis=0)) / X.std(axis=0)\n",
    "y = np.array(train_data['Y'].tolist())\n",
    "model = LogisticRegression()\n",
    "model.fit(X, y)"
   ]
  },
  {
   "cell_type": "code",
   "execution_count": 75,
   "id": "a61e7bb7",
   "metadata": {},
   "outputs": [
    {
     "name": "stdout",
     "output_type": "stream",
     "text": [
      "AUROC:  0.6512676403258095\n",
      "AUPRC:  0.4446144368797962\n"
     ]
    }
   ],
   "source": [
    "X = np.array(test_data_feature_edge_list_bc)\n",
    "X[X == -np.inf] = 0\n",
    "X = (X - X.mean(axis=0)) / X.std(axis=0)\n",
    "y = np.array(test_transductive['Y'].tolist())\n",
    "\n",
    "y_pred = model.predict(X)\n",
    "\n",
    "print('AUROC: ', roc_auc_score(y_pred,y))\n",
    "print('AUPRC: ', average_precision_score(y_pred,y))"
   ]
  },
  {
   "cell_type": "markdown",
   "id": "8114eb2c",
   "metadata": {},
   "source": [
    "## BC + NN "
   ]
  },
  {
   "cell_type": "code",
   "execution_count": 76,
   "id": "44560d7c",
   "metadata": {
    "scrolled": true
   },
   "outputs": [
    {
     "data": {
      "text/plain": [
       "LogisticRegression()"
      ]
     },
     "execution_count": 76,
     "metadata": {},
     "output_type": "execute_result"
    }
   ],
   "source": [
    "X = np.array(train_data_feature_edge_list_bc_nn)\n",
    "X[X == -np.inf] = 0\n",
    "X = (X - X.mean(axis=0)) / X.std(axis=0)\n",
    "y = np.array(train_data['Y'].tolist())\n",
    "model = LogisticRegression()\n",
    "model.fit(X, y)"
   ]
  },
  {
   "cell_type": "code",
   "execution_count": 77,
   "id": "66673d1d",
   "metadata": {},
   "outputs": [
    {
     "name": "stdout",
     "output_type": "stream",
     "text": [
      "AUROC:  0.6785462696928707\n",
      "AUPRC:  0.6379395974970112\n"
     ]
    }
   ],
   "source": [
    "X = np.array(test_data_feature_edge_list_bc_nn)\n",
    "X[X == -np.inf] = 0\n",
    "X = (X - X.mean(axis=0)) / X.std(axis=0)\n",
    "y = np.array(test_transductive['Y'].tolist())\n",
    "\n",
    "y_pred = model.predict(X)\n",
    "\n",
    "print('AUROC: ', roc_auc_score(y_pred,y))\n",
    "print('AUPRC: ', average_precision_score(y_pred,y))"
   ]
  },
  {
   "cell_type": "markdown",
   "id": "04e280c9",
   "metadata": {},
   "source": [
    "## BC + NN + CC"
   ]
  },
  {
   "cell_type": "code",
   "execution_count": 78,
   "id": "b026c8fb",
   "metadata": {
    "scrolled": true
   },
   "outputs": [
    {
     "data": {
      "text/plain": [
       "LogisticRegression()"
      ]
     },
     "execution_count": 78,
     "metadata": {},
     "output_type": "execute_result"
    }
   ],
   "source": [
    "X = np.array(train_data_feature_edge_list_bc_nn_cc)\n",
    "X[X == -np.inf] = 0\n",
    "X = (X - X.mean(axis=0)) / X.std(axis=0)\n",
    "y = np.array(train_data['Y'].tolist())\n",
    "model = LogisticRegression()\n",
    "model.fit(X, y)"
   ]
  },
  {
   "cell_type": "code",
   "execution_count": 79,
   "id": "c9677c2e",
   "metadata": {},
   "outputs": [
    {
     "name": "stdout",
     "output_type": "stream",
     "text": [
      "AUROC:  0.6747561942865089\n",
      "AUPRC:  0.6391075170958733\n"
     ]
    }
   ],
   "source": [
    "X = np.array(test_data_feature_edge_list_bc_nn_cc)\n",
    "X[X == -np.inf] = 0\n",
    "X = (X - X.mean(axis=0)) / X.std(axis=0)\n",
    "y = np.array(test_transductive['Y'].tolist())\n",
    "\n",
    "y_pred = model.predict(X)\n",
    "\n",
    "print('AUROC: ', roc_auc_score(y_pred,y))\n",
    "print('AUPRC: ', average_precision_score(y_pred,y))"
   ]
  },
  {
   "cell_type": "markdown",
   "id": "ae55b37d",
   "metadata": {},
   "source": [
    "## BC + NN + CC + TRI"
   ]
  },
  {
   "cell_type": "code",
   "execution_count": 80,
   "id": "0ad5b470",
   "metadata": {
    "scrolled": true
   },
   "outputs": [
    {
     "data": {
      "text/plain": [
       "LogisticRegression()"
      ]
     },
     "execution_count": 80,
     "metadata": {},
     "output_type": "execute_result"
    }
   ],
   "source": [
    "X = np.array(train_data_feature_edge_list_bc_nn_cc_tri)\n",
    "X[X == -np.inf] = 0\n",
    "X = (X - X.mean(axis=0)) / X.std(axis=0)\n",
    "y = np.array(train_data['Y'].tolist())\n",
    "model = LogisticRegression()\n",
    "model.fit(X, y)"
   ]
  },
  {
   "cell_type": "code",
   "execution_count": 81,
   "id": "51315768",
   "metadata": {},
   "outputs": [
    {
     "name": "stdout",
     "output_type": "stream",
     "text": [
      "AUROC:  0.7137942395437542\n",
      "AUPRC:  0.6403617368170702\n"
     ]
    }
   ],
   "source": [
    "X = np.array(test_data_feature_edge_list_bc_nn_cc_tri)\n",
    "X[X == -np.inf] = 0\n",
    "X = (X - X.mean(axis=0)) / X.std(axis=0)\n",
    "y = np.array(test_transductive['Y'].tolist())\n",
    "\n",
    "y_pred = model.predict(X)\n",
    "\n",
    "print('AUROC: ', roc_auc_score(y_pred,y))\n",
    "print('AUPRC: ', average_precision_score(y_pred,y))"
   ]
  },
  {
   "cell_type": "markdown",
   "id": "c019fd7f",
   "metadata": {},
   "source": [
    "## BC + NN + CC + TRI + DEG"
   ]
  },
  {
   "cell_type": "code",
   "execution_count": 82,
   "id": "b584cff0",
   "metadata": {
    "scrolled": true
   },
   "outputs": [
    {
     "data": {
      "text/plain": [
       "LogisticRegression()"
      ]
     },
     "execution_count": 82,
     "metadata": {},
     "output_type": "execute_result"
    }
   ],
   "source": [
    "X = np.array(train_data_feature_edge_list_bc_nn_cc_tri_deg)\n",
    "X[X == -np.inf] = 0\n",
    "X = (X - X.mean(axis=0)) / X.std(axis=0)\n",
    "y = np.array(train_data['Y'].tolist())\n",
    "model = LogisticRegression()\n",
    "model.fit(X, y)"
   ]
  },
  {
   "cell_type": "code",
   "execution_count": 83,
   "id": "028e0fc2",
   "metadata": {},
   "outputs": [
    {
     "name": "stdout",
     "output_type": "stream",
     "text": [
      "AUROC:  0.7409516142940693\n",
      "AUPRC:  0.7085055348115032\n"
     ]
    }
   ],
   "source": [
    "X = np.array(test_data_feature_edge_list_bc_nn_cc_tri_deg)\n",
    "X[X == -np.inf] = 0\n",
    "X = (X - X.mean(axis=0)) / X.std(axis=0)\n",
    "y = np.array(test_transductive['Y'].tolist())\n",
    "\n",
    "y_pred = model.predict(X)\n",
    "\n",
    "print('AUROC: ', roc_auc_score(y_pred,y))\n",
    "print('AUPRC: ', average_precision_score(y_pred,y))"
   ]
  },
  {
   "cell_type": "code",
   "execution_count": 84,
   "id": "fb4fc035",
   "metadata": {},
   "outputs": [
    {
     "name": "stdout",
     "output_type": "stream",
     "text": [
      "Feature: 0, Score: -0.05715\n",
      "Feature: 1, Score: -0.07453\n",
      "Feature: 2, Score: 0.54819\n",
      "Feature: 3, Score: -2.48080\n",
      "Feature: 4, Score: 4.34567\n"
     ]
    },
    {
     "data": {
      "image/png": "[encoded data removed]",
      "text/plain": [
       "<Figure size 1200x1200 with 1 Axes>"
      ]
     },
     "metadata": {
      "needs_background": "light"
     },
     "output_type": "display_data"
    }
   ],
   "source": [
    "importance = model.coef_[0]\n",
    "for i,v in enumerate(importance):\n",
    "    print('Feature: %0d, Score: %.5f' % (i,v))\n",
    "plt.figure(figsize=(4, 4),dpi=300)\n",
    "pyplot.bar([x for x in range(len(importance))], np.abs(importance))\n",
    "plt.xticks(fontsize=10)\n",
    "plt.yticks(fontsize=10)\n",
    "plt.show()"
   ]
  },
  {
   "cell_type": "code",
   "execution_count": null,
   "id": "2cfebfcc",
   "metadata": {},
   "outputs": [],
   "source": []
  }
 ],
 "metadata": {
  "kernelspec": {
   "display_name": "Python 3 (ipykernel)",
   "language": "python",
   "name": "python3"
  },
  "language_info": {
   "codemirror_mode": {
    "name": "ipython",
    "version": 3
   },
   "file_extension": ".py",
   "mimetype": "text/x-python",
   "name": "python",
   "nbconvert_exporter": "python",
   "pygments_lexer": "ipython3",
   "version": "3.9.12"
  }
 },
 "nbformat": 4,
 "nbformat_minor": 5
}
